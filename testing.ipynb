{
 "cells": [
  {
   "cell_type": "code",
   "execution_count": 15,
   "id": "65bfd2a3-3578-4553-af60-366b443176c7",
   "metadata": {},
   "outputs": [],
   "source": [
    "test_title = 'The Golden Compass (His Dark Materials, Book 1)'"
   ]
  },
  {
   "cell_type": "code",
   "execution_count": 2,
   "id": "ce97dc90-e781-45ce-bc11-06955c9a480e",
   "metadata": {},
   "outputs": [],
   "source": [
    "import requests\n",
    "import pandas as pd"
   ]
  },
  {
   "cell_type": "code",
   "execution_count": null,
   "id": "fce15fba-d93e-4840-b776-f0837c6b2d99",
   "metadata": {},
   "outputs": [],
   "source": []
  },
  {
   "cell_type": "code",
   "execution_count": 9,
   "id": "407e99d2-fe0f-45ea-8b7e-d8f707dda41d",
   "metadata": {},
   "outputs": [
    {
     "data": {
      "text/plain": [
       "Index(['ISBN', 'Book-Title', 'Book-Author', 'Year-Of-Publication', 'Publisher',\n",
       "       'Image-URL-S', 'Image-URL-M', 'Image-URL-L'],\n",
       "      dtype='object')"
      ]
     },
     "execution_count": 9,
     "metadata": {},
     "output_type": "execute_result"
    }
   ],
   "source": [
    "books = pd.read_csv(\"./books_data/books.csv\",low_memory=False)\n",
    "\n",
    "books.columns"
   ]
  },
  {
   "cell_type": "code",
   "execution_count": 11,
   "id": "7731dbd5-4743-4afc-bf21-dd23af3f96ed",
   "metadata": {},
   "outputs": [
    {
     "data": {
      "text/plain": [
       "Index(['ISBN', 'tytuly', 'Book-Author', 'Year-Of-Publication', 'Publisher',\n",
       "       'Image-URL-S', 'Image-URL-M', 'Image-URL-L'],\n",
       "      dtype='object')"
      ]
     },
     "execution_count": 11,
     "metadata": {},
     "output_type": "execute_result"
    }
   ],
   "source": [
    "books.columns.values[1] = 'tytuly'\n",
    "books.columns"
   ]
  },
  {
   "cell_type": "code",
   "execution_count": 16,
   "id": "7862caac-4e8b-443d-afc5-5bfb14b722dd",
   "metadata": {},
   "outputs": [
    {
     "data": {
      "text/html": [
       "<div>\n",
       "<style scoped>\n",
       "    .dataframe tbody tr th:only-of-type {\n",
       "        vertical-align: middle;\n",
       "    }\n",
       "\n",
       "    .dataframe tbody tr th {\n",
       "        vertical-align: top;\n",
       "    }\n",
       "\n",
       "    .dataframe thead th {\n",
       "        text-align: right;\n",
       "    }\n",
       "</style>\n",
       "<table border=\"1\" class=\"dataframe\">\n",
       "  <thead>\n",
       "    <tr style=\"text-align: right;\">\n",
       "      <th></th>\n",
       "      <th>ISBN</th>\n",
       "      <th>tytuly</th>\n",
       "      <th>Book-Author</th>\n",
       "      <th>Year-Of-Publication</th>\n",
       "      <th>Publisher</th>\n",
       "      <th>Image-URL-S</th>\n",
       "      <th>Image-URL-M</th>\n",
       "      <th>Image-URL-L</th>\n",
       "    </tr>\n",
       "  </thead>\n",
       "  <tbody>\n",
       "    <tr>\n",
       "      <th>274</th>\n",
       "      <td>037582345X</td>\n",
       "      <td>The Golden Compass (His Dark Materials, Book 1)</td>\n",
       "      <td>PHILIP PULLMAN</td>\n",
       "      <td>2002</td>\n",
       "      <td>Knopf Books for Young Readers</td>\n",
       "      <td>http://images.amazon.com/images/P/037582345X.0...</td>\n",
       "      <td>http://images.amazon.com/images/P/037582345X.0...</td>\n",
       "      <td>http://images.amazon.com/images/P/037582345X.0...</td>\n",
       "    </tr>\n",
       "    <tr>\n",
       "      <th>654</th>\n",
       "      <td>0679893105</td>\n",
       "      <td>The Golden Compass (His Dark Materials, Book 1)</td>\n",
       "      <td>PHILIP PULLMAN</td>\n",
       "      <td>1998</td>\n",
       "      <td>Knopf Books for Young Readers</td>\n",
       "      <td>http://images.amazon.com/images/P/0679893105.0...</td>\n",
       "      <td>http://images.amazon.com/images/P/0679893105.0...</td>\n",
       "      <td>http://images.amazon.com/images/P/0679893105.0...</td>\n",
       "    </tr>\n",
       "    <tr>\n",
       "      <th>4781</th>\n",
       "      <td>0345413350</td>\n",
       "      <td>The Golden Compass (His Dark Materials, Book 1)</td>\n",
       "      <td>PHILIP PULLMAN</td>\n",
       "      <td>1997</td>\n",
       "      <td>Del Rey</td>\n",
       "      <td>http://images.amazon.com/images/P/0345413350.0...</td>\n",
       "      <td>http://images.amazon.com/images/P/0345413350.0...</td>\n",
       "      <td>http://images.amazon.com/images/P/0345413350.0...</td>\n",
       "    </tr>\n",
       "    <tr>\n",
       "      <th>9254</th>\n",
       "      <td>0679879242</td>\n",
       "      <td>The Golden Compass (His Dark Materials, Book 1)</td>\n",
       "      <td>PHILIP PULLMAN</td>\n",
       "      <td>1996</td>\n",
       "      <td>Knopf Books for Young Readers</td>\n",
       "      <td>http://images.amazon.com/images/P/0679879242.0...</td>\n",
       "      <td>http://images.amazon.com/images/P/0679879242.0...</td>\n",
       "      <td>http://images.amazon.com/images/P/0679879242.0...</td>\n",
       "    </tr>\n",
       "    <tr>\n",
       "      <th>9516</th>\n",
       "      <td>0440418321</td>\n",
       "      <td>The Golden Compass (His Dark Materials, Book 1)</td>\n",
       "      <td>PHILIP PULLMAN</td>\n",
       "      <td>2001</td>\n",
       "      <td>Yearling</td>\n",
       "      <td>http://images.amazon.com/images/P/0440418321.0...</td>\n",
       "      <td>http://images.amazon.com/images/P/0440418321.0...</td>\n",
       "      <td>http://images.amazon.com/images/P/0440418321.0...</td>\n",
       "    </tr>\n",
       "    <tr>\n",
       "      <th>55492</th>\n",
       "      <td>0440238137</td>\n",
       "      <td>The Golden Compass (His Dark Materials, Book 1)</td>\n",
       "      <td>PHILIP PULLMAN</td>\n",
       "      <td>2003</td>\n",
       "      <td>Laurel Leaf</td>\n",
       "      <td>http://images.amazon.com/images/P/0440238137.0...</td>\n",
       "      <td>http://images.amazon.com/images/P/0440238137.0...</td>\n",
       "      <td>http://images.amazon.com/images/P/0440238137.0...</td>\n",
       "    </tr>\n",
       "    <tr>\n",
       "      <th>167991</th>\n",
       "      <td>0613026993</td>\n",
       "      <td>The Golden Compass (His Dark Materials, Book 1)</td>\n",
       "      <td>Philip Pullman</td>\n",
       "      <td>1999</td>\n",
       "      <td>Sagebrush Education Resources</td>\n",
       "      <td>http://images.amazon.com/images/P/0613026993.0...</td>\n",
       "      <td>http://images.amazon.com/images/P/0613026993.0...</td>\n",
       "      <td>http://images.amazon.com/images/P/0613026993.0...</td>\n",
       "    </tr>\n",
       "    <tr>\n",
       "      <th>238487</th>\n",
       "      <td>0807281808</td>\n",
       "      <td>The Golden Compass (His Dark Materials, Book 1)</td>\n",
       "      <td>Philip Pullman</td>\n",
       "      <td>1999</td>\n",
       "      <td>Listening Library</td>\n",
       "      <td>http://images.amazon.com/images/P/0807281808.0...</td>\n",
       "      <td>http://images.amazon.com/images/P/0807281808.0...</td>\n",
       "      <td>http://images.amazon.com/images/P/0807281808.0...</td>\n",
       "    </tr>\n",
       "  </tbody>\n",
       "</table>\n",
       "</div>"
      ],
      "text/plain": [
       "              ISBN                                           tytuly  \\\n",
       "274     037582345X  The Golden Compass (His Dark Materials, Book 1)   \n",
       "654     0679893105  The Golden Compass (His Dark Materials, Book 1)   \n",
       "4781    0345413350  The Golden Compass (His Dark Materials, Book 1)   \n",
       "9254    0679879242  The Golden Compass (His Dark Materials, Book 1)   \n",
       "9516    0440418321  The Golden Compass (His Dark Materials, Book 1)   \n",
       "55492   0440238137  The Golden Compass (His Dark Materials, Book 1)   \n",
       "167991  0613026993  The Golden Compass (His Dark Materials, Book 1)   \n",
       "238487  0807281808  The Golden Compass (His Dark Materials, Book 1)   \n",
       "\n",
       "           Book-Author Year-Of-Publication                      Publisher  \\\n",
       "274     PHILIP PULLMAN                2002  Knopf Books for Young Readers   \n",
       "654     PHILIP PULLMAN                1998  Knopf Books for Young Readers   \n",
       "4781    PHILIP PULLMAN                1997                        Del Rey   \n",
       "9254    PHILIP PULLMAN                1996  Knopf Books for Young Readers   \n",
       "9516    PHILIP PULLMAN                2001                       Yearling   \n",
       "55492   PHILIP PULLMAN                2003                    Laurel Leaf   \n",
       "167991  Philip Pullman                1999  Sagebrush Education Resources   \n",
       "238487  Philip Pullman                1999              Listening Library   \n",
       "\n",
       "                                              Image-URL-S  \\\n",
       "274     http://images.amazon.com/images/P/037582345X.0...   \n",
       "654     http://images.amazon.com/images/P/0679893105.0...   \n",
       "4781    http://images.amazon.com/images/P/0345413350.0...   \n",
       "9254    http://images.amazon.com/images/P/0679879242.0...   \n",
       "9516    http://images.amazon.com/images/P/0440418321.0...   \n",
       "55492   http://images.amazon.com/images/P/0440238137.0...   \n",
       "167991  http://images.amazon.com/images/P/0613026993.0...   \n",
       "238487  http://images.amazon.com/images/P/0807281808.0...   \n",
       "\n",
       "                                              Image-URL-M  \\\n",
       "274     http://images.amazon.com/images/P/037582345X.0...   \n",
       "654     http://images.amazon.com/images/P/0679893105.0...   \n",
       "4781    http://images.amazon.com/images/P/0345413350.0...   \n",
       "9254    http://images.amazon.com/images/P/0679879242.0...   \n",
       "9516    http://images.amazon.com/images/P/0440418321.0...   \n",
       "55492   http://images.amazon.com/images/P/0440238137.0...   \n",
       "167991  http://images.amazon.com/images/P/0613026993.0...   \n",
       "238487  http://images.amazon.com/images/P/0807281808.0...   \n",
       "\n",
       "                                              Image-URL-L  \n",
       "274     http://images.amazon.com/images/P/037582345X.0...  \n",
       "654     http://images.amazon.com/images/P/0679893105.0...  \n",
       "4781    http://images.amazon.com/images/P/0345413350.0...  \n",
       "9254    http://images.amazon.com/images/P/0679879242.0...  \n",
       "9516    http://images.amazon.com/images/P/0440418321.0...  \n",
       "55492   http://images.amazon.com/images/P/0440238137.0...  \n",
       "167991  http://images.amazon.com/images/P/0613026993.0...  \n",
       "238487  http://images.amazon.com/images/P/0807281808.0...  "
      ]
     },
     "execution_count": 16,
     "metadata": {},
     "output_type": "execute_result"
    }
   ],
   "source": [
    "#compass = books.query('tytuly == @test_title')\n",
    "compass_df = books.loc[books['tytuly'] == test_title]\n",
    "compass_df"
   ]
  }
 ],
 "metadata": {
  "kernelspec": {
   "display_name": "Python 3 (ipykernel)",
   "language": "python",
   "name": "python3"
  },
  "language_info": {
   "codemirror_mode": {
    "name": "ipython",
    "version": 3
   },
   "file_extension": ".py",
   "mimetype": "text/x-python",
   "name": "python",
   "nbconvert_exporter": "python",
   "pygments_lexer": "ipython3",
   "version": "3.10.6"
  }
 },
 "nbformat": 4,
 "nbformat_minor": 5
}
