{
 "cells": [
  {
   "cell_type": "markdown",
   "id": "41134634-8c7e-4a15-bbf0-f3a7d8b009a4",
   "metadata": {},
   "source": [
    "# Biblioteki"
   ]
  },
  {
   "cell_type": "code",
   "execution_count": 1,
   "id": "4d2669d1-0dda-489d-98a8-5e5877f3bcf9",
   "metadata": {},
   "outputs": [],
   "source": [
    "import requests\n",
    "import pandas as pd"
   ]
  },
  {
   "cell_type": "markdown",
   "id": "9f555b50-05bc-4729-8c03-49bada110ec1",
   "metadata": {},
   "source": [
    "Wczytanie domyślnych danych o książkach"
   ]
  },
  {
   "cell_type": "code",
   "execution_count": 2,
   "id": "46441712-7378-4ad2-a816-3ac78ff0c221",
   "metadata": {},
   "outputs": [],
   "source": [
    "test_title = \"Classical Mythology\""
   ]
  },
  {
   "cell_type": "code",
   "execution_count": 3,
   "id": "1ee49793-5c6e-4039-8c58-275e155248f0",
   "metadata": {
    "scrolled": true
   },
   "outputs": [
    {
     "name": "stdout",
     "output_type": "stream",
     "text": [
      "271360\n"
     ]
    }
   ],
   "source": [
    "books_og = pd.read_csv(\"./books_data/books.csv\",low_memory=False)\n",
    "#print(books_og.shape[0])\n",
    "books = books_og.drop_duplicates(subset=\"Book-Title\")\n",
    "\n",
    "#print(books.shape[0])\n",
    "#print(books.head())\n",
    "#print(books.columns)"
   ]
  },
  {
   "cell_type": "markdown",
   "id": "697aee32-fc3d-4873-aeca-24add83228c4",
   "metadata": {},
   "source": [
    "##### sprawdziłem, *genres* może również odnosić się do książek"
   ]
  },
  {
   "cell_type": "code",
   "execution_count": 62,
   "id": "3c0c15ec-0c8d-422e-a616-cba2cba96e3d",
   "metadata": {},
   "outputs": [],
   "source": [
    "def get_book_info(title, author, language=\"en\"):\n",
    "    #\n",
    "    google_books_api = f\"https://www.googleapis.com/books/v1/volumes?q={title}&lang={language}\"\n",
    "\n",
    "    data = requests.get(google_books_api).json()\n",
    "\n",
    "    description = \"NONE\"\n",
    "    genre = \"NONE\"\n",
    "    \n",
    "    if \"items\" in data:\n",
    "        book_info = data[\"items\"][0][\"volumeInfo\"]\n",
    "        \n",
    "        if \"description\" in book_info:\n",
    "            description = book_info[\"description\"].lower()\n",
    "        else:\n",
    "            description = \"None\"\n",
    "\n",
    "        if \"categories\" in book_info:\n",
    "            genre = book_info[\"categories\"]\n",
    "        else:\n",
    "            genre = \"None\"\n",
    "\n",
    "    book_info_good = pd.DataFrame({'Book-Author':[author],\n",
    "                              'Book-Title': [title],\n",
    "                              'Book-Description': [description],\n",
    "                              'Book-Genre': [genre]}\n",
    "                            )\n",
    "    \n",
    "    return book_info_good\n",
    "    \n",
    "#print(get_book_description(test_title))\n",
    "#print(get_book_genre(test_title))\n",
    "#print(get_book_info(test_title)[0])\n",
    "#print(get_book_info(test_title)[1])"
   ]
  },
  {
   "cell_type": "code",
   "execution_count": 91,
   "id": "a6a39eb5-2685-4f94-ae3e-9e9999561286",
   "metadata": {},
   "outputs": [],
   "source": [
    "def get_book_info_2(title, author, language=\"en\"):\n",
    "    #\n",
    "    google_books_api = f\"https://www.googleapis.com/books/v1/volumes?q={title}&lang={language}\"\n",
    "\n",
    "    response = requests.get(google_books_api).json()\n",
    "\n",
    "    description = \"NONE\"\n",
    "    genre = \"NONE\"\n",
    "    \n",
    "    if \"items\" in response:\n",
    "        \n",
    "        response = response[\"items\"]\n",
    "        \n",
    "        for item in response:\n",
    "\n",
    "            volume_info = item.get(\"volumeInfo\", {})\n",
    "            authors = volume_info.get(\"authors\", [])\n",
    "\n",
    "            if author in authors:\n",
    "                print(\"To ten autor i jego książka:\", author, title) \n",
    "\n",
    "                if \"description\" in item[\"volumeInfo\"]:\n",
    "                    description = item[\"volumeInfo\"][\"description\"].lower()\n",
    "                else:\n",
    "                    description = \"None\"\n",
    "    \n",
    "                if \"categories\" in item[\"volumeInfo\"]:\n",
    "                    genre = item[\"volumeInfo\"][\"categories\"]\n",
    "                else:\n",
    "                    genre = \"None\"\n",
    "\n",
    "    \n",
    "    book_info = pd.DataFrame({'Book-Author':[author],\n",
    "                              'Book-Title': [title],\n",
    "                              'Book-Description': [description],\n",
    "                              'Book-Genre': [genre]}\n",
    "                            )\n",
    "    \n",
    "    return book_info"
   ]
  },
  {
   "cell_type": "code",
   "execution_count": 94,
   "id": "973ce9ad-e994-4301-963b-2e3eaf815d0b",
   "metadata": {},
   "outputs": [],
   "source": [
    "def get_book_info_3(title, author, language=\"en\"):\n",
    "    #\n",
    "    google_books_api = f\"https://www.googleapis.com/books/v1/volumes?q={title}&lang={language}\"\n",
    "\n",
    "    response = requests.get(google_books_api).json()\n",
    "\n",
    "    description = \"NONE\"\n",
    "    genre = \"NONE\"\n",
    "    \n",
    "    if \"items\" in response:\n",
    "        \n",
    "        response = response[\"items\"]\n",
    "        \n",
    "        for item in response:\n",
    "\n",
    "            #to zwróci pusty słownik jakby nie było volume info\n",
    "            volume_info = item.get(\"volumeInfo\", {})\n",
    "\n",
    "            #to zwróci listy z autorami, opisami, gatunkami, jeśli takie istnieją, i zwróci NONE jeśli nie istnieją\n",
    "            authors = volume_info.get(\"authors\", [])         if volume_info.get(\"authors\", [])     else \"NONE\"\n",
    "            description = volume_info.get(\"description\", []) if volume_info.get(\"description\", []) else \"NONE\"\n",
    "            genre = volume_info.get(\"categories\", [])        if volume_info.get(\"categories\", [])  else \"NONE\"\n",
    "\n",
    "    \n",
    "    book_info = pd.DataFrame({'Book-Author':[author],\n",
    "                              'Book-Title': [title],\n",
    "                              'Book-Description': [description],\n",
    "                              'Book-Genre': [genre]}\n",
    "                            )\n",
    "    \n",
    "    return book_info"
   ]
  },
  {
   "cell_type": "code",
   "execution_count": 96,
   "id": "a1059edc-4237-4cfb-9f6e-f621029b9c87",
   "metadata": {},
   "outputs": [
    {
     "name": "stdout",
     "output_type": "stream",
     "text": [
      "t3:         Book-Author       Book-Title  \\\n",
      "0  James Patterson  The Beach House   \n",
      "\n",
      "                                    Book-Description Book-Genre  \n",
      "0  „Porywająca i przejmująca powieść o tym, jak z...  [Fiction]  \n"
     ]
    }
   ],
   "source": [
    "t_title = \"The Beach House\"\n",
    "t_author =\"James Patterson\"\n",
    "\n",
    "#test2 = get_book_info_2(t_title, t_author)\n",
    "#print(\"t2: \", test2)\n",
    "\n",
    "test3 = get_book_info_3(t_title, t_author)\n",
    "print(\"t3: \", test3)"
   ]
  },
  {
   "cell_type": "markdown",
   "id": "d2c4c934-54c9-4568-89ae-7ba577619d81",
   "metadata": {},
   "source": [
    "# TUTAJ ZMIENIĆ w  BOOKS_TEST NA BOOKS"
   ]
  },
  {
   "cell_type": "code",
   "execution_count": 6,
   "id": "0fa1789d-a172-4360-9ec8-8c4831b72874",
   "metadata": {},
   "outputs": [
    {
     "name": "stdout",
     "output_type": "stream",
     "text": [
      "0\n",
      "Błąd podczas pobierania opisu dla książki Classical Mythology: get_book_info() missing 1 required positional argument: 'author'\n"
     ]
    },
    {
     "ename": "NameError",
     "evalue": "name 'add_book' is not defined",
     "output_type": "error",
     "traceback": [
      "\u001b[1;31m---------------------------------------------------------------------------\u001b[0m",
      "\u001b[1;31mNameError\u001b[0m                                 Traceback (most recent call last)",
      "Cell \u001b[1;32mIn[6], line 21\u001b[0m\n\u001b[0;32m     17\u001b[0m     \u001b[38;5;28;01mexcept\u001b[39;00m \u001b[38;5;167;01mException\u001b[39;00m \u001b[38;5;28;01mas\u001b[39;00m e:\n\u001b[0;32m     18\u001b[0m         \u001b[38;5;66;03m# W przypadku błędu, przypisz None do description\u001b[39;00m\n\u001b[0;32m     19\u001b[0m         \u001b[38;5;28mprint\u001b[39m(\u001b[38;5;124mf\u001b[39m\u001b[38;5;124m\"\u001b[39m\u001b[38;5;124mBłąd podczas pobierania opisu dla książki \u001b[39m\u001b[38;5;132;01m{\u001b[39;00mtitle\u001b[38;5;132;01m}\u001b[39;00m\u001b[38;5;124m: \u001b[39m\u001b[38;5;132;01m{\u001b[39;00m\u001b[38;5;28mstr\u001b[39m(e)\u001b[38;5;132;01m}\u001b[39;00m\u001b[38;5;124m\"\u001b[39m)\n\u001b[1;32m---> 21\u001b[0m     books_description_genres \u001b[38;5;241m=\u001b[39m pd\u001b[38;5;241m.\u001b[39mconcat([books_description_genres,\u001b[43madd_book\u001b[49m], ignore_index\u001b[38;5;241m=\u001b[39m\u001b[38;5;28;01mTrue\u001b[39;00m)\n\u001b[0;32m     23\u001b[0m \u001b[38;5;66;03m#books_description_genres\u001b[39;00m\n",
      "\u001b[1;31mNameError\u001b[0m: name 'add_book' is not defined"
     ]
    }
   ],
   "source": [
    "books_description_genres = pd.DataFrame(columns=['Book-Title', 'Book_Description', 'Book-Genre'])\n",
    "\n",
    "books_test = books.head(5)\n",
    "\n",
    "#print(books_test)\n",
    "\n",
    "for index, row in books_test.iterrows():\n",
    "    print(index)\n",
    "    title = row['Book-Title']\n",
    "    author = row['Book-Author']\n",
    "\n",
    "    #print(str(index) + \" \" + title)\n",
    "    \n",
    "    try:\n",
    "        add_book = get_book_info(title)\n",
    "    \n",
    "    except Exception as e:\n",
    "        # W przypadku błędu, przypisz None do description\n",
    "        print(f\"Błąd podczas pobierania opisu dla książki {title}: {str(e)}\")\n",
    "    \n",
    "    books_description_genres = pd.concat([books_description_genres,add_book], ignore_index=True)\n",
    "\n",
    "#books_description_genres"
   ]
  },
  {
   "cell_type": "code",
   "execution_count": null,
   "id": "9a70e100-28c3-4056-8e6e-428391e723a5",
   "metadata": {},
   "outputs": [],
   "source": [
    "#books_description_genres.to_csv(\"./books_data/books_test_info.csv\", index=False)"
   ]
  },
  {
   "cell_type": "code",
   "execution_count": 57,
   "id": "cc6e5e30-4c37-42c1-9f60-efcd70d727a0",
   "metadata": {},
   "outputs": [
    {
     "ename": "AttributeError",
     "evalue": "'str' object has no attribute 'get'",
     "output_type": "error",
     "traceback": [
      "\u001b[1;31m---------------------------------------------------------------------------\u001b[0m",
      "\u001b[1;31mAttributeError\u001b[0m                            Traceback (most recent call last)",
      "Cell \u001b[1;32mIn[57], line 8\u001b[0m\n\u001b[0;32m      4\u001b[0m author \u001b[38;5;241m=\u001b[39m\u001b[38;5;124m\"\u001b[39m\u001b[38;5;124mJames Patterson\u001b[39m\u001b[38;5;124m\"\u001b[39m\n\u001b[0;32m      5\u001b[0m test_path \u001b[38;5;241m=\u001b[39m \u001b[38;5;124mf\u001b[39m\u001b[38;5;124m\"\u001b[39m\u001b[38;5;124mhttps://www.googleapis.com/books/v1/volumes?q=\u001b[39m\u001b[38;5;132;01m{\u001b[39;00mtitle\u001b[38;5;132;01m}\u001b[39;00m\u001b[38;5;124m&lang=en\u001b[39m\u001b[38;5;124m\"\u001b[39m\n\u001b[1;32m----> 8\u001b[0m test_data \u001b[38;5;241m=\u001b[39m \u001b[43mget_book_info_2\u001b[49m\u001b[43m(\u001b[49m\u001b[43mtitle\u001b[49m\u001b[43m,\u001b[49m\u001b[43m \u001b[49m\u001b[43mauthor\u001b[49m\u001b[43m)\u001b[49m\n\u001b[0;32m      9\u001b[0m test_data\n\u001b[0;32m     12\u001b[0m     \u001b[38;5;66;03m#print(item[\"volumeInfo\"][])\u001b[39;00m\n\u001b[0;32m     13\u001b[0m     \u001b[38;5;66;03m#print(\"-------------\")\u001b[39;00m\n\u001b[0;32m     14\u001b[0m \n\u001b[1;32m   (...)\u001b[0m\n\u001b[0;32m     19\u001b[0m \u001b[38;5;66;03m#print ('-----')\u001b[39;00m\n\u001b[0;32m     20\u001b[0m \u001b[38;5;66;03m#print(test_data)\u001b[39;00m\n",
      "Cell \u001b[1;32mIn[55], line 13\u001b[0m, in \u001b[0;36mget_book_info_2\u001b[1;34m(title, author, language)\u001b[0m\n\u001b[0;32m     10\u001b[0m \u001b[38;5;28;01mif\u001b[39;00m \u001b[38;5;124m\"\u001b[39m\u001b[38;5;124mitems\u001b[39m\u001b[38;5;124m\"\u001b[39m \u001b[38;5;129;01min\u001b[39;00m data:\n\u001b[0;32m     12\u001b[0m     \u001b[38;5;28;01mfor\u001b[39;00m item \u001b[38;5;129;01min\u001b[39;00m test_data:\n\u001b[1;32m---> 13\u001b[0m         volume_info \u001b[38;5;241m=\u001b[39m \u001b[43mitem\u001b[49m\u001b[38;5;241;43m.\u001b[39;49m\u001b[43mget\u001b[49m(\u001b[38;5;124m\"\u001b[39m\u001b[38;5;124mvolumeInfo\u001b[39m\u001b[38;5;124m\"\u001b[39m, {})\n\u001b[0;32m     14\u001b[0m         authors \u001b[38;5;241m=\u001b[39m volume_info\u001b[38;5;241m.\u001b[39mget(\u001b[38;5;124m\"\u001b[39m\u001b[38;5;124mauthors\u001b[39m\u001b[38;5;124m\"\u001b[39m, [])\n\u001b[0;32m     16\u001b[0m         \u001b[38;5;28;01mif\u001b[39;00m author \u001b[38;5;129;01min\u001b[39;00m authors:\n",
      "\u001b[1;31mAttributeError\u001b[0m: 'str' object has no attribute 'get'"
     ]
    }
   ],
   "source": [
    "#title = \"Magic Under Glass\"\n",
    "#title = \"Tu Nombre Escrito En El Agua (La Sonrisa Vertical)\"\n",
    "title = \"The Beach House\"\n",
    "author =\"James Patterson\"\n",
    "test_path = f\"https://www.googleapis.com/books/v1/volumes?q={title}&lang=en\"\n",
    "\n",
    "test_data = requests.get(test_path).json()\n",
    "#test_data = get_book_info_2(title, author, language=\"en\")\n",
    "test_data = test_data[\"items\"]\n",
    "\n",
    "\n",
    "for item in test_data:\n",
    "\n",
    "    if 'volumeInfo' in item:\n",
    "        if 'authors' in item['volumeInfo']:\n",
    "            print(item['volumeInfo']['authors'])\n",
    "    #print(item[\"volumeInfo\"][])\n",
    "    #print(\"-------------\")\n",
    "\n",
    "\n",
    "#print(test_data[\"items\"][3][\"volumeInfo\"][\"authors\"])\n",
    "\n",
    "#test_data[\"items\"][0][\"volumeInfo\"]['description']\n",
    "#print ('-----')\n",
    "#print(test_data)\n"
   ]
  }
 ],
 "metadata": {
  "kernelspec": {
   "display_name": "Python 3 (ipykernel)",
   "language": "python",
   "name": "python3"
  },
  "language_info": {
   "codemirror_mode": {
    "name": "ipython",
    "version": 3
   },
   "file_extension": ".py",
   "mimetype": "text/x-python",
   "name": "python",
   "nbconvert_exporter": "python",
   "pygments_lexer": "ipython3",
   "version": "3.10.6"
  }
 },
 "nbformat": 4,
 "nbformat_minor": 5
}
