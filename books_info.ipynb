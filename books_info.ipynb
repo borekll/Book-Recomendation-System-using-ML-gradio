{
 "cells": [
  {
   "cell_type": "markdown",
   "id": "41134634-8c7e-4a15-bbf0-f3a7d8b009a4",
   "metadata": {},
   "source": [
    "# Biblioteki"
   ]
  },
  {
   "cell_type": "code",
   "execution_count": 2,
   "id": "4d2669d1-0dda-489d-98a8-5e5877f3bcf9",
   "metadata": {},
   "outputs": [],
   "source": [
    "import requests\n",
    "import pandas as pd"
   ]
  },
  {
   "cell_type": "markdown",
   "id": "9f555b50-05bc-4729-8c03-49bada110ec1",
   "metadata": {},
   "source": [
    "Wczytanie domyślnych danych o książkach"
   ]
  },
  {
   "cell_type": "code",
   "execution_count": 3,
   "id": "46441712-7378-4ad2-a816-3ac78ff0c221",
   "metadata": {},
   "outputs": [],
   "source": [
    "test_title = \"Classical Mythology\""
   ]
  },
  {
   "cell_type": "code",
   "execution_count": 23,
   "id": "1ee49793-5c6e-4039-8c58-275e155248f0",
   "metadata": {
    "scrolled": true
   },
   "outputs": [],
   "source": [
    "books = pd.read_csv(\"./books_data/books.csv\",low_memory=False)\n",
    "#books.head()\n",
    "#books.columns"
   ]
  },
  {
   "cell_type": "markdown",
   "id": "697aee32-fc3d-4873-aeca-24add83228c4",
   "metadata": {},
   "source": [
    "##### sprawdziłem, *genres* może również odnosić się do książek"
   ]
  },
  {
   "cell_type": "code",
   "execution_count": 24,
   "id": "3c0c15ec-0c8d-422e-a616-cba2cba96e3d",
   "metadata": {},
   "outputs": [],
   "source": [
    "def get_book_description(title):\n",
    "\n",
    "    google_books_api = f\"https://www.googleapis.com/books/v1/volumes?q={title}\"\n",
    "\n",
    "    data = requests.get(google_books_api).json()\n",
    "    \n",
    "    if \"items\" in data:\n",
    "        book_info = data[\"items\"][0][\"volumeInfo\"]\n",
    "        \n",
    "        if \"description\" in book_info:\n",
    "            return book_info[\"description\"].lower()\n",
    "    return \"NONE\"\n",
    "\n",
    "def get_book_genre(title):\n",
    "\n",
    "    google_books_api = f\"https://www.googleapis.com/books/v1/volumes?q={title}\"\n",
    "\n",
    "    data = requests.get(google_books_api).json()\n",
    "    \n",
    "    if \"items\" in data:\n",
    "        book_info = data[\"items\"][0][\"volumeInfo\"]\n",
    "        \n",
    "        if \"description\" in book_info:\n",
    "            return book_info[\"categories\"]\n",
    "    return \"NONE\"\n",
    "\n",
    "#print(get_book_description(test_title))\n",
    "#print(get_book_genre(test_title))"
   ]
  },
  {
   "cell_type": "markdown",
   "id": "d2c4c934-54c9-4568-89ae-7ba577619d81",
   "metadata": {},
   "source": [
    "# TUTAJ ZMIENIĆ w  BOOKS_TEST NA BOOKS"
   ]
  },
  {
   "cell_type": "code",
   "execution_count": 20,
   "id": "0fa1789d-a172-4360-9ec8-8c4831b72874",
   "metadata": {},
   "outputs": [
    {
     "name": "stdout",
     "output_type": "stream",
     "text": [
      "0\n",
      "1\n",
      "2\n",
      "3\n",
      "4\n"
     ]
    },
    {
     "data": {
      "text/html": [
       "<div>\n",
       "<style scoped>\n",
       "    .dataframe tbody tr th:only-of-type {\n",
       "        vertical-align: middle;\n",
       "    }\n",
       "\n",
       "    .dataframe tbody tr th {\n",
       "        vertical-align: top;\n",
       "    }\n",
       "\n",
       "    .dataframe thead th {\n",
       "        text-align: right;\n",
       "    }\n",
       "</style>\n",
       "<table border=\"1\" class=\"dataframe\">\n",
       "  <thead>\n",
       "    <tr style=\"text-align: right;\">\n",
       "      <th></th>\n",
       "      <th>Book-Title</th>\n",
       "      <th>Book_Description</th>\n",
       "      <th>Book-Genre</th>\n",
       "    </tr>\n",
       "  </thead>\n",
       "  <tbody>\n",
       "    <tr>\n",
       "      <th>0</th>\n",
       "      <td>Classical Mythology</td>\n",
       "      <td>classical mythology, sixth edition, continues ...</td>\n",
       "      <td>Mythology, Classical</td>\n",
       "    </tr>\n",
       "    <tr>\n",
       "      <th>0</th>\n",
       "      <td>Clara Callan</td>\n",
       "      <td>in a small town in canada, clara callan reluct...</td>\n",
       "      <td>Fiction</td>\n",
       "    </tr>\n",
       "    <tr>\n",
       "      <th>0</th>\n",
       "      <td>Decision in Normandy</td>\n",
       "      <td>the strategy and planning behind d-day: “the b...</td>\n",
       "      <td>History</td>\n",
       "    </tr>\n",
       "    <tr>\n",
       "      <th>0</th>\n",
       "      <td>Flu: The Story of the Great Influenza Pandemic...</td>\n",
       "      <td>the fascinating, true story of the world's dea...</td>\n",
       "      <td>Social Science</td>\n",
       "    </tr>\n",
       "    <tr>\n",
       "      <th>0</th>\n",
       "      <td>The Mummies of Urumchi</td>\n",
       "      <td>an absorbing exploration of the mysterious, pe...</td>\n",
       "      <td>History</td>\n",
       "    </tr>\n",
       "  </tbody>\n",
       "</table>\n",
       "</div>"
      ],
      "text/plain": [
       "                                          Book-Title  \\\n",
       "0                                Classical Mythology   \n",
       "0                                       Clara Callan   \n",
       "0                               Decision in Normandy   \n",
       "0  Flu: The Story of the Great Influenza Pandemic...   \n",
       "0                             The Mummies of Urumchi   \n",
       "\n",
       "                                    Book_Description            Book-Genre  \n",
       "0  classical mythology, sixth edition, continues ...  Mythology, Classical  \n",
       "0  in a small town in canada, clara callan reluct...               Fiction  \n",
       "0  the strategy and planning behind d-day: “the b...               History  \n",
       "0  the fascinating, true story of the world's dea...        Social Science  \n",
       "0  an absorbing exploration of the mysterious, pe...               History  "
      ]
     },
     "execution_count": 20,
     "metadata": {},
     "output_type": "execute_result"
    }
   ],
   "source": [
    "books_description_genres = pd.DataFrame(columns=['Book-Title', 'Book_Description', 'Book-Genre'])\n",
    "\n",
    "for index, row in books.iterrows():\n",
    "    title = row['Book-Title']\n",
    "\n",
    "    try:\n",
    "        description = get_book_description(title)\n",
    "        genre = get_book_genre(title)\n",
    "        print(index)\n",
    "        \n",
    "        #print(title + \" , i tu jakaś deskrypcja\\n\")\n",
    "        #print(title + \" \" + genre[0])\n",
    "    \n",
    "    except Exception as e:\n",
    "        # W przypadku błędu, przypisz None do description\n",
    "        print(f\"Błąd podczas pobierania opisu dla książki {title}: {str(e)}\")\n",
    "        description = None\n",
    "        genre = None\n",
    "\n",
    "    add_book = pd.DataFrame({'Book-Title': title, 'Book_Description': description, 'Book-Genre': genre})\n",
    "    \n",
    "    books_description_genres = pd.concat([books_description_genres,add_book], ignore_index=False)\n",
    "\n",
    "#books_description_genres"
   ]
  },
  {
   "cell_type": "code",
   "execution_count": 22,
   "id": "9a70e100-28c3-4056-8e6e-428391e723a5",
   "metadata": {},
   "outputs": [],
   "source": [
    "books_description_genres.to_csv(\"./books_data/books_info.csv\", index=False)"
   ]
  }
 ],
 "metadata": {
  "kernelspec": {
   "display_name": "Python 3 (ipykernel)",
   "language": "python",
   "name": "python3"
  },
  "language_info": {
   "codemirror_mode": {
    "name": "ipython",
    "version": 3
   },
   "file_extension": ".py",
   "mimetype": "text/x-python",
   "name": "python",
   "nbconvert_exporter": "python",
   "pygments_lexer": "ipython3",
   "version": "3.10.6"
  }
 },
 "nbformat": 4,
 "nbformat_minor": 5
}
