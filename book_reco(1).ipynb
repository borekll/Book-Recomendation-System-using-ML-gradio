{
 "cells": [
  {
   "cell_type": "code",
   "execution_count": 86,
   "id": "bdfaab9f",
   "metadata": {},
   "outputs": [
    {
     "data": {
      "text/html": [
       "<div>\n",
       "<style scoped>\n",
       "    .dataframe tbody tr th:only-of-type {\n",
       "        vertical-align: middle;\n",
       "    }\n",
       "\n",
       "    .dataframe tbody tr th {\n",
       "        vertical-align: top;\n",
       "    }\n",
       "\n",
       "    .dataframe thead th {\n",
       "        text-align: right;\n",
       "    }\n",
       "</style>\n",
       "<table border=\"1\" class=\"dataframe\">\n",
       "  <thead>\n",
       "    <tr style=\"text-align: right;\">\n",
       "      <th></th>\n",
       "      <th>ISBN</th>\n",
       "      <th>Book-Title</th>\n",
       "      <th>Book-Author</th>\n",
       "      <th>Year-Of-Publication</th>\n",
       "      <th>Publisher</th>\n",
       "      <th>Image-URL-S</th>\n",
       "      <th>Image-URL-M</th>\n",
       "      <th>Image-URL-L</th>\n",
       "    </tr>\n",
       "  </thead>\n",
       "  <tbody>\n",
       "    <tr>\n",
       "      <th>0</th>\n",
       "      <td>0195153448</td>\n",
       "      <td>Classical Mythology</td>\n",
       "      <td>Mark P. O. Morford</td>\n",
       "      <td>2002</td>\n",
       "      <td>Oxford University Press</td>\n",
       "      <td>http://images.amazon.com/images/P/0195153448.0...</td>\n",
       "      <td>http://images.amazon.com/images/P/0195153448.0...</td>\n",
       "      <td>http://images.amazon.com/images/P/0195153448.0...</td>\n",
       "    </tr>\n",
       "    <tr>\n",
       "      <th>1</th>\n",
       "      <td>0002005018</td>\n",
       "      <td>Clara Callan</td>\n",
       "      <td>Richard Bruce Wright</td>\n",
       "      <td>2001</td>\n",
       "      <td>HarperFlamingo Canada</td>\n",
       "      <td>http://images.amazon.com/images/P/0002005018.0...</td>\n",
       "      <td>http://images.amazon.com/images/P/0002005018.0...</td>\n",
       "      <td>http://images.amazon.com/images/P/0002005018.0...</td>\n",
       "    </tr>\n",
       "    <tr>\n",
       "      <th>2</th>\n",
       "      <td>0060973129</td>\n",
       "      <td>Decision in Normandy</td>\n",
       "      <td>Carlo D'Este</td>\n",
       "      <td>1991</td>\n",
       "      <td>HarperPerennial</td>\n",
       "      <td>http://images.amazon.com/images/P/0060973129.0...</td>\n",
       "      <td>http://images.amazon.com/images/P/0060973129.0...</td>\n",
       "      <td>http://images.amazon.com/images/P/0060973129.0...</td>\n",
       "    </tr>\n",
       "    <tr>\n",
       "      <th>3</th>\n",
       "      <td>0374157065</td>\n",
       "      <td>Flu: The Story of the Great Influenza Pandemic...</td>\n",
       "      <td>Gina Bari Kolata</td>\n",
       "      <td>1999</td>\n",
       "      <td>Farrar Straus Giroux</td>\n",
       "      <td>http://images.amazon.com/images/P/0374157065.0...</td>\n",
       "      <td>http://images.amazon.com/images/P/0374157065.0...</td>\n",
       "      <td>http://images.amazon.com/images/P/0374157065.0...</td>\n",
       "    </tr>\n",
       "    <tr>\n",
       "      <th>4</th>\n",
       "      <td>0393045218</td>\n",
       "      <td>The Mummies of Urumchi</td>\n",
       "      <td>E. J. W. Barber</td>\n",
       "      <td>1999</td>\n",
       "      <td>W. W. Norton &amp;amp; Company</td>\n",
       "      <td>http://images.amazon.com/images/P/0393045218.0...</td>\n",
       "      <td>http://images.amazon.com/images/P/0393045218.0...</td>\n",
       "      <td>http://images.amazon.com/images/P/0393045218.0...</td>\n",
       "    </tr>\n",
       "  </tbody>\n",
       "</table>\n",
       "</div>"
      ],
      "text/plain": [
       "         ISBN                                         Book-Title  \\\n",
       "0  0195153448                                Classical Mythology   \n",
       "1  0002005018                                       Clara Callan   \n",
       "2  0060973129                               Decision in Normandy   \n",
       "3  0374157065  Flu: The Story of the Great Influenza Pandemic...   \n",
       "4  0393045218                             The Mummies of Urumchi   \n",
       "\n",
       "            Book-Author Year-Of-Publication                   Publisher  \\\n",
       "0    Mark P. O. Morford                2002     Oxford University Press   \n",
       "1  Richard Bruce Wright                2001       HarperFlamingo Canada   \n",
       "2          Carlo D'Este                1991             HarperPerennial   \n",
       "3      Gina Bari Kolata                1999        Farrar Straus Giroux   \n",
       "4       E. J. W. Barber                1999  W. W. Norton &amp; Company   \n",
       "\n",
       "                                         Image-URL-S  \\\n",
       "0  http://images.amazon.com/images/P/0195153448.0...   \n",
       "1  http://images.amazon.com/images/P/0002005018.0...   \n",
       "2  http://images.amazon.com/images/P/0060973129.0...   \n",
       "3  http://images.amazon.com/images/P/0374157065.0...   \n",
       "4  http://images.amazon.com/images/P/0393045218.0...   \n",
       "\n",
       "                                         Image-URL-M  \\\n",
       "0  http://images.amazon.com/images/P/0195153448.0...   \n",
       "1  http://images.amazon.com/images/P/0002005018.0...   \n",
       "2  http://images.amazon.com/images/P/0060973129.0...   \n",
       "3  http://images.amazon.com/images/P/0374157065.0...   \n",
       "4  http://images.amazon.com/images/P/0393045218.0...   \n",
       "\n",
       "                                         Image-URL-L  \n",
       "0  http://images.amazon.com/images/P/0195153448.0...  \n",
       "1  http://images.amazon.com/images/P/0002005018.0...  \n",
       "2  http://images.amazon.com/images/P/0060973129.0...  \n",
       "3  http://images.amazon.com/images/P/0374157065.0...  \n",
       "4  http://images.amazon.com/images/P/0393045218.0...  "
      ]
     },
     "execution_count": 86,
     "metadata": {},
     "output_type": "execute_result"
    }
   ],
   "source": [
    "import pandas as pd\n",
    "\n",
    "# Wczytaj plik CSV z dysku Google Drive\n",
    "books = pd.read_csv(\"D:/Downloads/archive(4)/Books.csv\",low_memory=False)\n",
    "books.head()"
   ]
  },
  {
   "cell_type": "code",
   "execution_count": 76,
   "id": "c109d8df",
   "metadata": {},
   "outputs": [
    {
     "name": "stdout",
     "output_type": "stream",
     "text": [
      "                                               Book-Title        ISBN\n",
      "2143    Harry Potter and the Sorcerer's Stone (Harry P...  059035342X\n",
      "2809       Harry Potter and the Sorcerer's Stone (Book 1)  0590353403\n",
      "3459     Harry Potter and the Chamber of Secrets (Book 2)  0439064872\n",
      "3839    Harry Potter and the Prisoner of Azkaban (Book 3)  0439136350\n",
      "5431         Harry Potter and the Goblet of Fire (Book 4)  0439139597\n",
      "...                                                   ...         ...\n",
      "257263  Harry Potter and the Goblet of Fire (Harry Pot...  043955490X\n",
      "259611              Harry Potter and the Sorcerer's Stone  0939173344\n",
      "260025             Harry Goes to Camp (Monsterkids, No 3)  0061062383\n",
      "265961       Harry and Catherine (Vintage Contemporaries)  0679730761\n",
      "266651             Harry Houdini: Escape Artist (Level 2)  0689848153\n",
      "\n",
      "[144 rows x 2 columns]\n",
      "0         False\n",
      "1         False\n",
      "2         False\n",
      "3         False\n",
      "4         False\n",
      "          ...  \n",
      "271355    False\n",
      "271356    False\n",
      "271357    False\n",
      "271358    False\n",
      "271359    False\n",
      "Name: ISBN, Length: 271360, dtype: bool\n"
     ]
    }
   ],
   "source": [
    "print(books[books['Book-Title'].str.startswith('Harry')][['Book-Title', 'ISBN']])\n",
    "print(books['ISBN']==\"059035342X\")"
   ]
  },
  {
   "cell_type": "code",
   "execution_count": 129,
   "id": "1f82cf0f",
   "metadata": {},
   "outputs": [
    {
     "data": {
      "text/html": [
       "<div>\n",
       "<style scoped>\n",
       "    .dataframe tbody tr th:only-of-type {\n",
       "        vertical-align: middle;\n",
       "    }\n",
       "\n",
       "    .dataframe tbody tr th {\n",
       "        vertical-align: top;\n",
       "    }\n",
       "\n",
       "    .dataframe thead th {\n",
       "        text-align: right;\n",
       "    }\n",
       "</style>\n",
       "<table border=\"1\" class=\"dataframe\">\n",
       "  <thead>\n",
       "    <tr style=\"text-align: right;\">\n",
       "      <th></th>\n",
       "      <th>ISBN</th>\n",
       "      <th>Book-Title</th>\n",
       "    </tr>\n",
       "  </thead>\n",
       "  <tbody>\n",
       "    <tr>\n",
       "      <th>0</th>\n",
       "      <td>0195153448</td>\n",
       "      <td>Classical Mythology</td>\n",
       "    </tr>\n",
       "    <tr>\n",
       "      <th>1</th>\n",
       "      <td>0002005018</td>\n",
       "      <td>Clara Callan</td>\n",
       "    </tr>\n",
       "    <tr>\n",
       "      <th>2</th>\n",
       "      <td>0060973129</td>\n",
       "      <td>Decision in Normandy</td>\n",
       "    </tr>\n",
       "    <tr>\n",
       "      <th>3</th>\n",
       "      <td>0374157065</td>\n",
       "      <td>Flu: The Story of the Great Influenza Pandemic...</td>\n",
       "    </tr>\n",
       "    <tr>\n",
       "      <th>4</th>\n",
       "      <td>0393045218</td>\n",
       "      <td>The Mummies of Urumchi</td>\n",
       "    </tr>\n",
       "    <tr>\n",
       "      <th>...</th>\n",
       "      <td>...</td>\n",
       "      <td>...</td>\n",
       "    </tr>\n",
       "    <tr>\n",
       "      <th>271355</th>\n",
       "      <td>0440400988</td>\n",
       "      <td>There's a Bat in Bunk Five</td>\n",
       "    </tr>\n",
       "    <tr>\n",
       "      <th>271356</th>\n",
       "      <td>0525447644</td>\n",
       "      <td>From One to One Hundred</td>\n",
       "    </tr>\n",
       "    <tr>\n",
       "      <th>271357</th>\n",
       "      <td>006008667X</td>\n",
       "      <td>Lily Dale : The True Story of the Town that Ta...</td>\n",
       "    </tr>\n",
       "    <tr>\n",
       "      <th>271358</th>\n",
       "      <td>0192126040</td>\n",
       "      <td>Republic (World's Classics)</td>\n",
       "    </tr>\n",
       "    <tr>\n",
       "      <th>271359</th>\n",
       "      <td>0767409752</td>\n",
       "      <td>A Guided Tour of Rene Descartes' Meditations o...</td>\n",
       "    </tr>\n",
       "  </tbody>\n",
       "</table>\n",
       "<p>271360 rows × 2 columns</p>\n",
       "</div>"
      ],
      "text/plain": [
       "              ISBN                                         Book-Title\n",
       "0       0195153448                                Classical Mythology\n",
       "1       0002005018                                       Clara Callan\n",
       "2       0060973129                               Decision in Normandy\n",
       "3       0374157065  Flu: The Story of the Great Influenza Pandemic...\n",
       "4       0393045218                             The Mummies of Urumchi\n",
       "...            ...                                                ...\n",
       "271355  0440400988                         There's a Bat in Bunk Five\n",
       "271356  0525447644                            From One to One Hundred\n",
       "271357  006008667X  Lily Dale : The True Story of the Town that Ta...\n",
       "271358  0192126040                        Republic (World's Classics)\n",
       "271359  0767409752  A Guided Tour of Rene Descartes' Meditations o...\n",
       "\n",
       "[271360 rows x 2 columns]"
      ]
     },
     "execution_count": 129,
     "metadata": {},
     "output_type": "execute_result"
    }
   ],
   "source": [
    "books=books[['ISBN','Book-Title']]\n",
    "\n",
    "\n",
    "books.isnull().sum()\n",
    "books.drop_duplicates()\n"
   ]
  },
  {
   "cell_type": "markdown",
   "id": "82470b4a",
   "metadata": {},
   "source": [
    "# Zabawa z Gradio"
   ]
  },
  {
   "cell_type": "code",
   "execution_count": 5,
   "id": "b4d7ad42",
   "metadata": {
    "scrolled": true
   },
   "outputs": [
    {
     "name": "stdout",
     "output_type": "stream",
     "text": [
      "Running on local URL:  http://127.0.0.1:7860\n",
      "\n",
      "To create a public link, set `share=True` in `launch()`.\n"
     ]
    },
    {
     "data": {
      "text/html": [
       "<div><iframe src=\"http://127.0.0.1:7860/\" width=\"100%\" height=\"500\" allow=\"autoplay; camera; microphone; clipboard-read; clipboard-write;\" frameborder=\"0\" allowfullscreen></iframe></div>"
      ],
      "text/plain": [
       "<IPython.core.display.HTML object>"
      ]
     },
     "metadata": {},
     "output_type": "display_data"
    },
    {
     "data": {
      "text/plain": []
     },
     "execution_count": 5,
     "metadata": {},
     "output_type": "execute_result"
    }
   ],
   "source": [
    "import gradio as gr\n",
    "\n",
    "def greet(name):\n",
    "    return get_recomendations(name,1).tolist()\n",
    "\n",
    "demo = gr.Interface(fn=greet, inputs=\"text\", outputs=\"text\")\n",
    "    \n",
    "demo.launch()"
   ]
  },
  {
   "cell_type": "markdown",
   "id": "deae84fc",
   "metadata": {},
   "source": [
    "Tutaj zaczyna się coś ciekawego"
   ]
  },
  {
   "cell_type": "code",
   "execution_count": 130,
   "id": "61e26112",
   "metadata": {
    "scrolled": true
   },
   "outputs": [],
   "source": [
    "from sklearn.feature_extraction.text import CountVectorizer\n",
    "from sklearn.metrics.pairwise import euclidean_distances\n",
    "from sklearn.neighbors import NearestNeighbors\n",
    "from sklearn.feature_extraction.text import TfidfVectorizer\n",
    "\n",
    "from scipy.sparse import csr_matrix\n",
    "\n",
    "# Zakładając, że books to DataFrame z kolumną 'Book-Title'\n",
    "vectorizer_model = CountVectorizer()\n",
    "wektory_cech = vectorizer_model.fit_transform(books['Book-Title'])\n",
    "\n",
    "# Przekształć na rzadką macierz\n",
    "wektory_cech_rzadkie = csr_matrix(wektory_cech)"
   ]
  },
  {
   "cell_type": "code",
   "execution_count": 131,
   "id": "6bcd3aa1",
   "metadata": {},
   "outputs": [],
   "source": [
    "import numpy as np\n",
    "from sklearn.feature_extraction.text import CountVectorizer\n",
    "from sklearn.metrics.pairwise import euclidean_distances\n",
    "from sklearn.metrics.pairwise import pairwise_distances\n",
    "\n",
    "def closest_elements_sparse(target_title, n=5):\n",
    "    # Przekształć tytuł docelowy do wektora cech\n",
    "    target_vector = vectorizer_model.transform([target_title])\n",
    "\n",
    "    # Oblicz odległość euklidesową między wektorem docelowym a wszystkimi wektorami cech\n",
    "    distances = pairwise_distances(target_vector, wektory_cech_rzadkie, metric=\"l2\", n_jobs=-1)\n",
    "\n",
    "    # Znajdź indeksy najbliższych elementów\n",
    "    closest_indices = distances.argsort()[0][:n]\n",
    "\n",
    "    # Pobierz najbliższe elementy\n",
    "    closest_elements_list = books.iloc[closest_indices]['Book-Title'].tolist()\n",
    "\n",
    "    return closest_elements_list"
   ]
  },
  {
   "cell_type": "code",
   "execution_count": 132,
   "id": "5ceb2c13",
   "metadata": {},
   "outputs": [
    {
     "data": {
      "text/plain": [
       "['The Two Towers (Lord of the Rings (Hardcover))',\n",
       " 'The Two Towers (Lord of the Rings (Paperback))',\n",
       " 'The Two Towers (Lord of the Rings Part 2)',\n",
       " 'The Lord of the Rings',\n",
       " 'The Lord of the Rings']"
      ]
     },
     "execution_count": 132,
     "metadata": {},
     "output_type": "execute_result"
    }
   ],
   "source": [
    "closest_elements_sparse(\"The Lord of The Rings: Two Towers\",5)"
   ]
  },
  {
   "cell_type": "markdown",
   "id": "41f4e401",
   "metadata": {},
   "source": [
    "## Szkoda mi bylo to usuwac na razie"
   ]
  },
  {
   "cell_type": "code",
   "execution_count": 27,
   "id": "e27cafe9",
   "metadata": {},
   "outputs": [
    {
     "name": "stdout",
     "output_type": "stream",
     "text": [
      "1\n"
     ]
    },
    {
     "ename": "IndexError",
     "evalue": "list index out of range",
     "output_type": "error",
     "traceback": [
      "\u001b[1;31m---------------------------------------------------------------------------\u001b[0m",
      "\u001b[1;31mIndexError\u001b[0m                                Traceback (most recent call last)",
      "Cell \u001b[1;32mIn[27], line 50\u001b[0m\n\u001b[0;32m     46\u001b[0m             tytul_ksiazki\u001b[38;5;241m.\u001b[39mappend(books[\u001b[38;5;124m\"\u001b[39m\u001b[38;5;124mBook-Title\u001b[39m\u001b[38;5;124m\"\u001b[39m]\u001b[38;5;241m.\u001b[39miloc[indeks])\n\u001b[0;32m     48\u001b[0m     \u001b[38;5;28;01mreturn\u001b[39;00m(tytul_ksiazki)\n\u001b[1;32m---> 50\u001b[0m \u001b[43mget_recomendation\u001b[49m\u001b[43m(\u001b[49m\u001b[38;5;124;43m\"\u001b[39;49m\u001b[38;5;124;43mDark Tales\u001b[39;49m\u001b[38;5;124;43m\"\u001b[39;49m\u001b[43m,\u001b[49m\u001b[38;5;241;43m4\u001b[39;49m\u001b[43m)\u001b[49m\n\u001b[0;32m     51\u001b[0m \u001b[38;5;66;03m#get_recomendation(\"The Hobbit : The Enchanting Prelude to The Lord of the Rings\",4)\u001b[39;00m\n",
      "Cell \u001b[1;32mIn[27], line 31\u001b[0m, in \u001b[0;36mget_recomendation\u001b[1;34m(title, n)\u001b[0m\n\u001b[0;32m     29\u001b[0m row_number \u001b[38;5;241m=\u001b[39m books\u001b[38;5;241m.\u001b[39mindex[books[\u001b[38;5;124m'\u001b[39m\u001b[38;5;124mBook-Title\u001b[39m\u001b[38;5;124m'\u001b[39m]\u001b[38;5;241m.\u001b[39mstr\u001b[38;5;241m.\u001b[39mcontains(title, case\u001b[38;5;241m=\u001b[39m\u001b[38;5;28;01mFalse\u001b[39;00m)]\u001b[38;5;241m.\u001b[39mtolist()\n\u001b[0;32m     30\u001b[0m row_number \u001b[38;5;241m=\u001b[39mrow_number[\u001b[38;5;241m0\u001b[39m]\n\u001b[1;32m---> 31\u001b[0m array \u001b[38;5;241m=\u001b[39m \u001b[43mdane\u001b[49m\u001b[43m[\u001b[49m\u001b[43mrow_number\u001b[49m\u001b[43m]\u001b[49m[\u001b[38;5;241m1\u001b[39m]\u001b[38;5;241m.\u001b[39mtolist()\n\u001b[0;32m     32\u001b[0m title_list\u001b[38;5;241m=\u001b[39mn_najmniejszych(array,n)\n\u001b[0;32m     33\u001b[0m tytul_ksiazki \u001b[38;5;241m=\u001b[39m[]\n",
      "\u001b[1;31mIndexError\u001b[0m: list index out of range"
     ]
    }
   ],
   "source": [
    "from Levenshtein import distance\n",
    "def closest_title(title):\n",
    "    # Utwórz DataFrame z indeksem\n",
    "    m = pd.DataFrame(books.index)\n",
    "    m['lev'] = m.index.map(lambda x: distance(books['Book-Title'].iloc[x], title))\n",
    "\n",
    "    # Znajdź najbliższy tytuł na podstawie odległości Levenshteina\n",
    "    closest_title = books.loc[m.sort_values('lev', ascending=True).index[0], 'Book-Title']\n",
    "\n",
    "    return closest_title\n",
    "\n",
    "def n_najmniejszych(lista, n):\n",
    "    # Utwórz listę indeksów dla elementów różnych od zera\n",
    "    indeksy_niezerowych_elementow = [indeks for indeks, wartosc in enumerate(lista[0]) if abs(wartosc) > 1e-10]\n",
    "    \n",
    "    # Posortuj listę indeksów według wartości\n",
    "    posortowane_indeksy = sorted(indeksy_niezerowych_elementow, key=lambda x: lista[0][x])\n",
    "    \n",
    "    # Ogranicz się do pierwszych n najmniejszych indeksów\n",
    "    n_najmniejsze_indeksy = posortowane_indeksy[:n]\n",
    "    \n",
    "    return n_najmniejsze_indeksy\n",
    "\n",
    "\n",
    "def get_recomendation(title,n):\n",
    "    check_book = any(books['Book-Title'].str.contains(title, case=False))\n",
    "    if check_book == True:\n",
    "        print(\"1\")\n",
    "        row_number = books.index[books['Book-Title'].str.contains(title, case=False)].tolist()\n",
    "        row_number =row_number[0]\n",
    "        array = dane[row_number][1].tolist()\n",
    "        title_list=n_najmniejszych(array,n)\n",
    "        tytul_ksiazki =[]\n",
    "        for indeks in title_list:\n",
    "            tytul_ksiazki.append(books[\"Book-Title\"].iloc[indeks])\n",
    "\n",
    "    else:\n",
    "        print(\"2\")\n",
    "        title = closest_title(title)\n",
    "        row_number = books.index[books['Book-Title'].str.contains(title, case=False)].tolist()\n",
    "        row_number =row_number[0]\n",
    "        array = dane[row_number][1].tolist()\n",
    "        title_list=n_najmniejszych(array,n)\n",
    "        tytul_ksiazki =[]\n",
    "        for indeks in title_list:\n",
    "            tytul_ksiazki.append(books[\"Book-Title\"].iloc[indeks])\n",
    "            \n",
    "    return(tytul_ksiazki)\n",
    "\n",
    "get_recomendation(\"Dark Tales\",4)\n",
    "#get_recomendation(\"The Hobbit : The Enchanting Prelude to The Lord of the Rings\",4)\n",
    "\n"
   ]
  },
  {
   "cell_type": "markdown",
   "id": "14aa9bdf",
   "metadata": {},
   "source": [
    "# Rekomendaja po Popularności danej książki z uzycie podobienstwa cosinusowego"
   ]
  },
  {
   "cell_type": "code",
   "execution_count": 3,
   "id": "4ca9ce50",
   "metadata": {},
   "outputs": [
    {
     "data": {
      "text/html": [
       "<div>\n",
       "<style scoped>\n",
       "    .dataframe tbody tr th:only-of-type {\n",
       "        vertical-align: middle;\n",
       "    }\n",
       "\n",
       "    .dataframe tbody tr th {\n",
       "        vertical-align: top;\n",
       "    }\n",
       "\n",
       "    .dataframe thead th {\n",
       "        text-align: right;\n",
       "    }\n",
       "</style>\n",
       "<table border=\"1\" class=\"dataframe\">\n",
       "  <thead>\n",
       "    <tr style=\"text-align: right;\">\n",
       "      <th></th>\n",
       "      <th>User-ID</th>\n",
       "      <th>ISBN</th>\n",
       "      <th>Book-Rating</th>\n",
       "    </tr>\n",
       "  </thead>\n",
       "  <tbody>\n",
       "    <tr>\n",
       "      <th>0</th>\n",
       "      <td>276725</td>\n",
       "      <td>034545104X</td>\n",
       "      <td>0</td>\n",
       "    </tr>\n",
       "    <tr>\n",
       "      <th>1</th>\n",
       "      <td>276726</td>\n",
       "      <td>0155061224</td>\n",
       "      <td>5</td>\n",
       "    </tr>\n",
       "    <tr>\n",
       "      <th>2</th>\n",
       "      <td>276727</td>\n",
       "      <td>0446520802</td>\n",
       "      <td>0</td>\n",
       "    </tr>\n",
       "    <tr>\n",
       "      <th>3</th>\n",
       "      <td>276729</td>\n",
       "      <td>052165615X</td>\n",
       "      <td>3</td>\n",
       "    </tr>\n",
       "    <tr>\n",
       "      <th>4</th>\n",
       "      <td>276729</td>\n",
       "      <td>0521795028</td>\n",
       "      <td>6</td>\n",
       "    </tr>\n",
       "  </tbody>\n",
       "</table>\n",
       "</div>"
      ],
      "text/plain": [
       "   User-ID        ISBN  Book-Rating\n",
       "0   276725  034545104X            0\n",
       "1   276726  0155061224            5\n",
       "2   276727  0446520802            0\n",
       "3   276729  052165615X            3\n",
       "4   276729  0521795028            6"
      ]
     },
     "execution_count": 3,
     "metadata": {},
     "output_type": "execute_result"
    }
   ],
   "source": [
    "#wczytanie danych z ocenami\n",
    "ratings = pd.read_csv(\"D:/Downloads/archive(4)/Ratings.csv\",low_memory=False)\n",
    "ratings.head()\n"
   ]
  },
  {
   "cell_type": "code",
   "execution_count": 6,
   "id": "a425d5d4",
   "metadata": {},
   "outputs": [
    {
     "data": {
      "text/html": [
       "<div>\n",
       "<style scoped>\n",
       "    .dataframe tbody tr th:only-of-type {\n",
       "        vertical-align: middle;\n",
       "    }\n",
       "\n",
       "    .dataframe tbody tr th {\n",
       "        vertical-align: top;\n",
       "    }\n",
       "\n",
       "    .dataframe thead th {\n",
       "        text-align: right;\n",
       "    }\n",
       "</style>\n",
       "<table border=\"1\" class=\"dataframe\">\n",
       "  <thead>\n",
       "    <tr style=\"text-align: right;\">\n",
       "      <th></th>\n",
       "      <th>ISBN</th>\n",
       "      <th>Book-Title</th>\n",
       "      <th>Book-Author</th>\n",
       "      <th>Year-Of-Publication</th>\n",
       "      <th>Publisher</th>\n",
       "      <th>Image-URL-S</th>\n",
       "      <th>Image-URL-M</th>\n",
       "      <th>Image-URL-L</th>\n",
       "      <th>User-ID</th>\n",
       "      <th>Book-Rating</th>\n",
       "    </tr>\n",
       "  </thead>\n",
       "  <tbody>\n",
       "    <tr>\n",
       "      <th>0</th>\n",
       "      <td>0195153448</td>\n",
       "      <td>Classical Mythology</td>\n",
       "      <td>Mark P. O. Morford</td>\n",
       "      <td>2002</td>\n",
       "      <td>Oxford University Press</td>\n",
       "      <td>http://images.amazon.com/images/P/0195153448.0...</td>\n",
       "      <td>http://images.amazon.com/images/P/0195153448.0...</td>\n",
       "      <td>http://images.amazon.com/images/P/0195153448.0...</td>\n",
       "      <td>2</td>\n",
       "      <td>0</td>\n",
       "    </tr>\n",
       "    <tr>\n",
       "      <th>1</th>\n",
       "      <td>0002005018</td>\n",
       "      <td>Clara Callan</td>\n",
       "      <td>Richard Bruce Wright</td>\n",
       "      <td>2001</td>\n",
       "      <td>HarperFlamingo Canada</td>\n",
       "      <td>http://images.amazon.com/images/P/0002005018.0...</td>\n",
       "      <td>http://images.amazon.com/images/P/0002005018.0...</td>\n",
       "      <td>http://images.amazon.com/images/P/0002005018.0...</td>\n",
       "      <td>8</td>\n",
       "      <td>5</td>\n",
       "    </tr>\n",
       "    <tr>\n",
       "      <th>2</th>\n",
       "      <td>0002005018</td>\n",
       "      <td>Clara Callan</td>\n",
       "      <td>Richard Bruce Wright</td>\n",
       "      <td>2001</td>\n",
       "      <td>HarperFlamingo Canada</td>\n",
       "      <td>http://images.amazon.com/images/P/0002005018.0...</td>\n",
       "      <td>http://images.amazon.com/images/P/0002005018.0...</td>\n",
       "      <td>http://images.amazon.com/images/P/0002005018.0...</td>\n",
       "      <td>11400</td>\n",
       "      <td>0</td>\n",
       "    </tr>\n",
       "    <tr>\n",
       "      <th>3</th>\n",
       "      <td>0002005018</td>\n",
       "      <td>Clara Callan</td>\n",
       "      <td>Richard Bruce Wright</td>\n",
       "      <td>2001</td>\n",
       "      <td>HarperFlamingo Canada</td>\n",
       "      <td>http://images.amazon.com/images/P/0002005018.0...</td>\n",
       "      <td>http://images.amazon.com/images/P/0002005018.0...</td>\n",
       "      <td>http://images.amazon.com/images/P/0002005018.0...</td>\n",
       "      <td>11676</td>\n",
       "      <td>8</td>\n",
       "    </tr>\n",
       "    <tr>\n",
       "      <th>4</th>\n",
       "      <td>0002005018</td>\n",
       "      <td>Clara Callan</td>\n",
       "      <td>Richard Bruce Wright</td>\n",
       "      <td>2001</td>\n",
       "      <td>HarperFlamingo Canada</td>\n",
       "      <td>http://images.amazon.com/images/P/0002005018.0...</td>\n",
       "      <td>http://images.amazon.com/images/P/0002005018.0...</td>\n",
       "      <td>http://images.amazon.com/images/P/0002005018.0...</td>\n",
       "      <td>41385</td>\n",
       "      <td>0</td>\n",
       "    </tr>\n",
       "  </tbody>\n",
       "</table>\n",
       "</div>"
      ],
      "text/plain": [
       "         ISBN           Book-Title           Book-Author Year-Of-Publication  \\\n",
       "0  0195153448  Classical Mythology    Mark P. O. Morford                2002   \n",
       "1  0002005018         Clara Callan  Richard Bruce Wright                2001   \n",
       "2  0002005018         Clara Callan  Richard Bruce Wright                2001   \n",
       "3  0002005018         Clara Callan  Richard Bruce Wright                2001   \n",
       "4  0002005018         Clara Callan  Richard Bruce Wright                2001   \n",
       "\n",
       "                 Publisher                                        Image-URL-S  \\\n",
       "0  Oxford University Press  http://images.amazon.com/images/P/0195153448.0...   \n",
       "1    HarperFlamingo Canada  http://images.amazon.com/images/P/0002005018.0...   \n",
       "2    HarperFlamingo Canada  http://images.amazon.com/images/P/0002005018.0...   \n",
       "3    HarperFlamingo Canada  http://images.amazon.com/images/P/0002005018.0...   \n",
       "4    HarperFlamingo Canada  http://images.amazon.com/images/P/0002005018.0...   \n",
       "\n",
       "                                         Image-URL-M  \\\n",
       "0  http://images.amazon.com/images/P/0195153448.0...   \n",
       "1  http://images.amazon.com/images/P/0002005018.0...   \n",
       "2  http://images.amazon.com/images/P/0002005018.0...   \n",
       "3  http://images.amazon.com/images/P/0002005018.0...   \n",
       "4  http://images.amazon.com/images/P/0002005018.0...   \n",
       "\n",
       "                                         Image-URL-L  User-ID  Book-Rating  \n",
       "0  http://images.amazon.com/images/P/0195153448.0...        2            0  \n",
       "1  http://images.amazon.com/images/P/0002005018.0...        8            5  \n",
       "2  http://images.amazon.com/images/P/0002005018.0...    11400            0  \n",
       "3  http://images.amazon.com/images/P/0002005018.0...    11676            8  \n",
       "4  http://images.amazon.com/images/P/0002005018.0...    41385            0  "
      ]
     },
     "execution_count": 6,
     "metadata": {},
     "output_type": "execute_result"
    }
   ],
   "source": [
    "#połącz danych \n",
    "book_rating = pd.merge(books,ratings, on ='ISBN')\n",
    "book_rating.head()"
   ]
  },
  {
   "cell_type": "code",
   "execution_count": 6,
   "id": "05be9504",
   "metadata": {},
   "outputs": [
    {
     "data": {
      "text/html": [
       "<div>\n",
       "<style scoped>\n",
       "    .dataframe tbody tr th:only-of-type {\n",
       "        vertical-align: middle;\n",
       "    }\n",
       "\n",
       "    .dataframe tbody tr th {\n",
       "        vertical-align: top;\n",
       "    }\n",
       "\n",
       "    .dataframe thead th {\n",
       "        text-align: right;\n",
       "    }\n",
       "</style>\n",
       "<table border=\"1\" class=\"dataframe\">\n",
       "  <thead>\n",
       "    <tr style=\"text-align: right;\">\n",
       "      <th></th>\n",
       "      <th>Book-Title</th>\n",
       "      <th>num_rating</th>\n",
       "    </tr>\n",
       "  </thead>\n",
       "  <tbody>\n",
       "    <tr>\n",
       "      <th>0</th>\n",
       "      <td>A Light in the Storm: The Civil War Diary of ...</td>\n",
       "      <td>4</td>\n",
       "    </tr>\n",
       "    <tr>\n",
       "      <th>1</th>\n",
       "      <td>Always Have Popsicles</td>\n",
       "      <td>1</td>\n",
       "    </tr>\n",
       "    <tr>\n",
       "      <th>2</th>\n",
       "      <td>Apple Magic (The Collector's series)</td>\n",
       "      <td>1</td>\n",
       "    </tr>\n",
       "    <tr>\n",
       "      <th>3</th>\n",
       "      <td>Ask Lily (Young Women of Faith: Lily Series, ...</td>\n",
       "      <td>1</td>\n",
       "    </tr>\n",
       "    <tr>\n",
       "      <th>4</th>\n",
       "      <td>Beyond IBM: Leadership Marketing and Finance ...</td>\n",
       "      <td>1</td>\n",
       "    </tr>\n",
       "  </tbody>\n",
       "</table>\n",
       "</div>"
      ],
      "text/plain": [
       "                                          Book-Title  num_rating\n",
       "0   A Light in the Storm: The Civil War Diary of ...           4\n",
       "1                              Always Have Popsicles           1\n",
       "2               Apple Magic (The Collector's series)           1\n",
       "3   Ask Lily (Young Women of Faith: Lily Series, ...           1\n",
       "4   Beyond IBM: Leadership Marketing and Finance ...           1"
      ]
     },
     "execution_count": 6,
     "metadata": {},
     "output_type": "execute_result"
    }
   ],
   "source": [
    "# Liczba ocen dla każdej książki\n",
    "num_book_rating = book_rating.groupby('Book-Title').count()['Book-Rating'].reset_index()\n",
    "num_book_rating.rename(columns = {'Book-Rating':'num_rating'}, inplace=True)\n",
    "num_book_rating.head()"
   ]
  },
  {
   "cell_type": "code",
   "execution_count": 7,
   "id": "3377e270",
   "metadata": {},
   "outputs": [
    {
     "name": "stderr",
     "output_type": "stream",
     "text": [
      "C:\\Users\\13luk\\AppData\\Local\\Temp\\ipykernel_17984\\339634649.py:2: FutureWarning: The default value of numeric_only in DataFrameGroupBy.mean is deprecated. In a future version, numeric_only will default to False. Either specify numeric_only or select only columns which should be valid for the function.\n",
      "  avg_book_rating = book_rating.groupby('Book-Title').mean()['Book-Rating'].reset_index()\n"
     ]
    },
    {
     "data": {
      "text/html": [
       "<div>\n",
       "<style scoped>\n",
       "    .dataframe tbody tr th:only-of-type {\n",
       "        vertical-align: middle;\n",
       "    }\n",
       "\n",
       "    .dataframe tbody tr th {\n",
       "        vertical-align: top;\n",
       "    }\n",
       "\n",
       "    .dataframe thead th {\n",
       "        text-align: right;\n",
       "    }\n",
       "</style>\n",
       "<table border=\"1\" class=\"dataframe\">\n",
       "  <thead>\n",
       "    <tr style=\"text-align: right;\">\n",
       "      <th></th>\n",
       "      <th>Book-Title</th>\n",
       "      <th>avg_rating</th>\n",
       "    </tr>\n",
       "  </thead>\n",
       "  <tbody>\n",
       "    <tr>\n",
       "      <th>0</th>\n",
       "      <td>A Light in the Storm: The Civil War Diary of ...</td>\n",
       "      <td>2.25</td>\n",
       "    </tr>\n",
       "    <tr>\n",
       "      <th>1</th>\n",
       "      <td>Always Have Popsicles</td>\n",
       "      <td>0.00</td>\n",
       "    </tr>\n",
       "    <tr>\n",
       "      <th>2</th>\n",
       "      <td>Apple Magic (The Collector's series)</td>\n",
       "      <td>0.00</td>\n",
       "    </tr>\n",
       "    <tr>\n",
       "      <th>3</th>\n",
       "      <td>Ask Lily (Young Women of Faith: Lily Series, ...</td>\n",
       "      <td>8.00</td>\n",
       "    </tr>\n",
       "    <tr>\n",
       "      <th>4</th>\n",
       "      <td>Beyond IBM: Leadership Marketing and Finance ...</td>\n",
       "      <td>0.00</td>\n",
       "    </tr>\n",
       "  </tbody>\n",
       "</table>\n",
       "</div>"
      ],
      "text/plain": [
       "                                          Book-Title  avg_rating\n",
       "0   A Light in the Storm: The Civil War Diary of ...        2.25\n",
       "1                              Always Have Popsicles        0.00\n",
       "2               Apple Magic (The Collector's series)        0.00\n",
       "3   Ask Lily (Young Women of Faith: Lily Series, ...        8.00\n",
       "4   Beyond IBM: Leadership Marketing and Finance ...        0.00"
      ]
     },
     "execution_count": 7,
     "metadata": {},
     "output_type": "execute_result"
    }
   ],
   "source": [
    "# Średnia ocena dla każdej książki\n",
    "avg_book_rating = book_rating.groupby('Book-Title').mean()['Book-Rating'].reset_index()\n",
    "avg_book_rating.rename(columns={'Book-Rating':'avg_rating'}, inplace=True)\n",
    "avg_book_rating.head()"
   ]
  },
  {
   "cell_type": "code",
   "execution_count": 8,
   "id": "18fc6041",
   "metadata": {},
   "outputs": [
    {
     "data": {
      "text/html": [
       "<div>\n",
       "<style scoped>\n",
       "    .dataframe tbody tr th:only-of-type {\n",
       "        vertical-align: middle;\n",
       "    }\n",
       "\n",
       "    .dataframe tbody tr th {\n",
       "        vertical-align: top;\n",
       "    }\n",
       "\n",
       "    .dataframe thead th {\n",
       "        text-align: right;\n",
       "    }\n",
       "</style>\n",
       "<table border=\"1\" class=\"dataframe\">\n",
       "  <thead>\n",
       "    <tr style=\"text-align: right;\">\n",
       "      <th></th>\n",
       "      <th>Book-Title</th>\n",
       "      <th>avg_rating</th>\n",
       "      <th>num_rating</th>\n",
       "    </tr>\n",
       "  </thead>\n",
       "  <tbody>\n",
       "    <tr>\n",
       "      <th>0</th>\n",
       "      <td>A Light in the Storm: The Civil War Diary of ...</td>\n",
       "      <td>2.25</td>\n",
       "      <td>4</td>\n",
       "    </tr>\n",
       "    <tr>\n",
       "      <th>1</th>\n",
       "      <td>Always Have Popsicles</td>\n",
       "      <td>0.00</td>\n",
       "      <td>1</td>\n",
       "    </tr>\n",
       "    <tr>\n",
       "      <th>2</th>\n",
       "      <td>Apple Magic (The Collector's series)</td>\n",
       "      <td>0.00</td>\n",
       "      <td>1</td>\n",
       "    </tr>\n",
       "    <tr>\n",
       "      <th>3</th>\n",
       "      <td>Ask Lily (Young Women of Faith: Lily Series, ...</td>\n",
       "      <td>8.00</td>\n",
       "      <td>1</td>\n",
       "    </tr>\n",
       "    <tr>\n",
       "      <th>4</th>\n",
       "      <td>Beyond IBM: Leadership Marketing and Finance ...</td>\n",
       "      <td>0.00</td>\n",
       "      <td>1</td>\n",
       "    </tr>\n",
       "  </tbody>\n",
       "</table>\n",
       "</div>"
      ],
      "text/plain": [
       "                                          Book-Title  avg_rating  num_rating\n",
       "0   A Light in the Storm: The Civil War Diary of ...        2.25           4\n",
       "1                              Always Have Popsicles        0.00           1\n",
       "2               Apple Magic (The Collector's series)        0.00           1\n",
       "3   Ask Lily (Young Women of Faith: Lily Series, ...        8.00           1\n",
       "4   Beyond IBM: Leadership Marketing and Finance ...        0.00           1"
      ]
     },
     "execution_count": 8,
     "metadata": {},
     "output_type": "execute_result"
    }
   ],
   "source": [
    "#połączenie danych sredniej oceny i liczby ocen\n",
    "books_df = avg_book_rating.merge(num_book_rating, on = 'Book-Title')\n",
    "books_df.head()"
   ]
  },
  {
   "cell_type": "code",
   "execution_count": 12,
   "id": "1233b7df",
   "metadata": {},
   "outputs": [],
   "source": [
    "#filtrowanie uzytkownikow powyzej ktorzy maja wiecej niz 200 ocen\n",
    "usr = book_rating.groupby(\"User-ID\").count()[\"Book-Title\"] > 200 \n",
    "\n",
    "read_book = usr[usr].index\n",
    "filtered_rating = book_rating[book_rating[\"User-ID\"].isin(read_book)]"
   ]
  },
  {
   "cell_type": "code",
   "execution_count": 17,
   "id": "3fb3b9e5",
   "metadata": {},
   "outputs": [],
   "source": [
    "#filtrowanie ksiazek, ktore maja wiecej niz 50 ocen\n",
    "famous = filtered_rating.groupby(\"Book-Title\").count()[\"Book-Rating\"] >= 50\n",
    "famous_book = famous[famous].index\n",
    "final_ratings = filtered_rating[filtered_rating[\"Book-Title\"].isin(famous_book)]"
   ]
  },
  {
   "cell_type": "code",
   "execution_count": 18,
   "id": "e003335a",
   "metadata": {},
   "outputs": [],
   "source": [
    "#tabela przestawna wiersz-tytul, kolumna-uzytkownik, wartosc-ocena\n",
    "pt = final_ratings.pivot_table(index=\"Book-Title\", columns=\"User-ID\", values=\"Book-Rating\")\n",
    "pt.fillna(0, inplace=True)"
   ]
  },
  {
   "cell_type": "code",
   "execution_count": 19,
   "id": "84b9910b",
   "metadata": {},
   "outputs": [],
   "source": [
    "#model podobienstwa cosinusowego\n",
    "from sklearn.metrics.pairwise import cosine_similarity\n",
    "similarity_score = cosine_similarity(pt)"
   ]
  },
  {
   "cell_type": "code",
   "execution_count": 23,
   "id": "e7f1b989",
   "metadata": {},
   "outputs": [],
   "source": [
    "#funkcja zwracajaca podobne ksiazki\n",
    "import numpy as np\n",
    "\n",
    "def recommend_books(book_name, n=5):\n",
    "    # Znajdź indeks książki w tabeli przestawnej\n",
    "    index = np.where(pt.index == book_name)[0][0]\n",
    "    \n",
    "    # Posortuj podobieństwa i wybierz top n\n",
    "    similar_books = sorted(enumerate(similarity_score[index]), key=lambda x: x[1], reverse=True)[1:n+1]\n",
    "\n",
    "    # Zbierz tylko tytuły książek\n",
    "    recommended_titles = []\n",
    "\n",
    "    for bk in similar_books:\n",
    "        temp_df = books[books[\"Book-Title\"] == pt.index[bk[0]]]\n",
    "        recommended_titles.append(temp_df.drop_duplicates(\"Book-Title\")[\"Book-Title\"].values[0])\n",
    "\n",
    "    return recommended_titles"
   ]
  },
  {
   "cell_type": "code",
   "execution_count": 24,
   "id": "270ebe22",
   "metadata": {},
   "outputs": [
    {
     "data": {
      "text/plain": [
       "['Along Came a Spider (Alex Cross Novels)',\n",
       " 'Roses Are Red (Alex Cross Novels)',\n",
       " 'Pop Goes the Weasel',\n",
       " 'Violets Are Blue',\n",
       " 'Lightning']"
      ]
     },
     "execution_count": 24,
     "metadata": {},
     "output_type": "execute_result"
    }
   ],
   "source": [
    "recommend_books(\"1st to Die: A Novel\")"
   ]
  },
  {
   "cell_type": "markdown",
   "id": "6a971bb6",
   "metadata": {},
   "source": [
    "## Rekomendacja po odleglosci Euklidesowej"
   ]
  },
  {
   "cell_type": "code",
   "execution_count": 124,
   "id": "140a7214",
   "metadata": {},
   "outputs": [],
   "source": [
    "from sklearn.feature_extraction.text import CountVectorizer\n",
    "from sklearn.metrics.pairwise import euclidean_distances\n",
    "from sklearn.neighbors import NearestNeighbors\n",
    "from sklearn.feature_extraction.text import TfidfVectorizer\n",
    "\n",
    "from scipy.sparse import csr_matrix\n",
    "\n",
    "# Zakładając, że books to DataFrame z kolumną 'Book-Title'\n",
    "vectorizer_model = CountVectorizer()\n",
    "wektory_cech = vectorizer_model.fit_transform(books['Book-Title'])\n",
    "\n",
    "# Przekształć na rzadką macierz\n",
    "wektory_cech_rzadkie = csr_matrix(wektory_cech)"
   ]
  },
  {
   "cell_type": "code",
   "execution_count": 125,
   "id": "7019f3e3",
   "metadata": {},
   "outputs": [],
   "source": [
    "import numpy as np\n",
    "from sklearn.feature_extraction.text import CountVectorizer\n",
    "from sklearn.metrics.pairwise import euclidean_distances\n",
    "from sklearn.metrics.pairwise import pairwise_distances\n",
    "\n",
    "def closest_elements_sparse(target_title, n=5):\n",
    "    # Przekształć tytuł docelowy do wektora cech\n",
    "    target_vector = vectorizer_model.transform([target_title])\n",
    "\n",
    "    # Oblicz odległość euklidesową między wektorem docelowym a wszystkimi wektorami cech\n",
    "    distances = pairwise_distances(target_vector, wektory_cech_rzadkie, metric=\"l2\", n_jobs=-1)\n",
    "\n",
    "    # Znajdź indeksy najbliższych elementów\n",
    "    closest_indices = distances.argsort()[0][:n]\n",
    "\n",
    "    # Pobierz najbliższe elementy\n",
    "    closest_elements_list = books.iloc[closest_indices]['Book-Title'].tolist()\n",
    "\n",
    "    return closest_elements_list"
   ]
  },
  {
   "cell_type": "code",
   "execution_count": 126,
   "id": "86f6fdb5",
   "metadata": {},
   "outputs": [
    {
     "data": {
      "text/plain": [
       "['The Two Towers (Lord of the Rings (Hardcover))',\n",
       " 'The Two Towers (Lord of the Rings (Paperback))',\n",
       " 'The Two Towers (Lord of the Rings Part 2)',\n",
       " 'The Lord of the Rings',\n",
       " 'The Lord of the Rings']"
      ]
     },
     "execution_count": 126,
     "metadata": {},
     "output_type": "execute_result"
    }
   ],
   "source": [
    "closest_elements_sparse(\"The Lord of The Rings: Two Towers\",5)"
   ]
  }
 ],
 "metadata": {
  "kernelspec": {
   "display_name": "Python 3 (ipykernel)",
   "language": "python",
   "name": "python3"
  },
  "language_info": {
   "codemirror_mode": {
    "name": "ipython",
    "version": 3
   },
   "file_extension": ".py",
   "mimetype": "text/x-python",
   "name": "python",
   "nbconvert_exporter": "python",
   "pygments_lexer": "ipython3",
   "version": "3.11.2"
  }
 },
 "nbformat": 4,
 "nbformat_minor": 5
}
