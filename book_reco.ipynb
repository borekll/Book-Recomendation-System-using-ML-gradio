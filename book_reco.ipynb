{
 "cells": [
  {
   "cell_type": "markdown",
   "id": "29147835",
   "metadata": {
    "scrolled": true
   },
   "source": [
    "import pandas as pd\n",
    "\n",
    "# Wczytaj plik CSV z dysku Google Drive\n",
    "books = pd.read_csv(\"D:/Downloads/archive(4)/Books.csv\",low_memory=False)\n",
    "books.head()"
   ]
  },
  {
   "cell_type": "code",
   "execution_count": 2,
   "id": "c109d8df",
   "metadata": {},
   "outputs": [
    {
     "name": "stdout",
     "output_type": "stream",
     "text": [
      "                                               Book-Title        ISBN\n",
      "2143    Harry Potter and the Sorcerer's Stone (Harry P...  059035342X\n",
      "2809       Harry Potter and the Sorcerer's Stone (Book 1)  0590353403\n",
      "3459     Harry Potter and the Chamber of Secrets (Book 2)  0439064872\n",
      "3839    Harry Potter and the Prisoner of Azkaban (Book 3)  0439136350\n",
      "5431         Harry Potter and the Goblet of Fire (Book 4)  0439139597\n",
      "...                                                   ...         ...\n",
      "257263  Harry Potter and the Goblet of Fire (Harry Pot...  043955490X\n",
      "259611              Harry Potter and the Sorcerer's Stone  0939173344\n",
      "260025             Harry Goes to Camp (Monsterkids, No 3)  0061062383\n",
      "265961       Harry and Catherine (Vintage Contemporaries)  0679730761\n",
      "266651             Harry Houdini: Escape Artist (Level 2)  0689848153\n",
      "\n",
      "[144 rows x 2 columns]\n",
      "0         False\n",
      "1         False\n",
      "2         False\n",
      "3         False\n",
      "4         False\n",
      "          ...  \n",
      "271355    False\n",
      "271356    False\n",
      "271357    False\n",
      "271358    False\n",
      "271359    False\n",
      "Name: ISBN, Length: 271360, dtype: bool\n"
     ]
    }
   ],
   "source": [
    "print(books[books['Book-Title'].str.startswith('Harry')][['Book-Title', 'ISBN']])\n",
    "print(books['ISBN']==\"059035342X\")"
   ]
  },
  {
   "cell_type": "code",
   "execution_count": 3,
   "id": "1f82cf0f",
   "metadata": {},
   "outputs": [
    {
     "data": {
      "text/html": [
       "<div>\n",
       "<style scoped>\n",
       "    .dataframe tbody tr th:only-of-type {\n",
       "        vertical-align: middle;\n",
       "    }\n",
       "\n",
       "    .dataframe tbody tr th {\n",
       "        vertical-align: top;\n",
       "    }\n",
       "\n",
       "    .dataframe thead th {\n",
       "        text-align: right;\n",
       "    }\n",
       "</style>\n",
       "<table border=\"1\" class=\"dataframe\">\n",
       "  <thead>\n",
       "    <tr style=\"text-align: right;\">\n",
       "      <th></th>\n",
       "      <th>ISBN</th>\n",
       "      <th>Book-Title</th>\n",
       "    </tr>\n",
       "  </thead>\n",
       "  <tbody>\n",
       "    <tr>\n",
       "      <th>0</th>\n",
       "      <td>0195153448</td>\n",
       "      <td>Classical Mythology</td>\n",
       "    </tr>\n",
       "    <tr>\n",
       "      <th>1</th>\n",
       "      <td>0002005018</td>\n",
       "      <td>Clara Callan</td>\n",
       "    </tr>\n",
       "    <tr>\n",
       "      <th>2</th>\n",
       "      <td>0060973129</td>\n",
       "      <td>Decision in Normandy</td>\n",
       "    </tr>\n",
       "    <tr>\n",
       "      <th>3</th>\n",
       "      <td>0374157065</td>\n",
       "      <td>Flu: The Story of the Great Influenza Pandemic...</td>\n",
       "    </tr>\n",
       "    <tr>\n",
       "      <th>4</th>\n",
       "      <td>0393045218</td>\n",
       "      <td>The Mummies of Urumchi</td>\n",
       "    </tr>\n",
       "    <tr>\n",
       "      <th>...</th>\n",
       "      <td>...</td>\n",
       "      <td>...</td>\n",
       "    </tr>\n",
       "    <tr>\n",
       "      <th>99995</th>\n",
       "      <td>3442727782</td>\n",
       "      <td>Das Tagebuch des Oscar Wilde.</td>\n",
       "    </tr>\n",
       "    <tr>\n",
       "      <th>99996</th>\n",
       "      <td>0373707495</td>\n",
       "      <td>Memories Of You (Bestselling Author Flash) (Ha...</td>\n",
       "    </tr>\n",
       "    <tr>\n",
       "      <th>99997</th>\n",
       "      <td>3442725739</td>\n",
       "      <td>Ã?Â?stlich der Berge.</td>\n",
       "    </tr>\n",
       "    <tr>\n",
       "      <th>99998</th>\n",
       "      <td>3453211901</td>\n",
       "      <td>Das teuflische Testament.</td>\n",
       "    </tr>\n",
       "    <tr>\n",
       "      <th>99999</th>\n",
       "      <td>0263790576</td>\n",
       "      <td>A Stranger's Love (Romance)</td>\n",
       "    </tr>\n",
       "  </tbody>\n",
       "</table>\n",
       "<p>100000 rows × 2 columns</p>\n",
       "</div>"
      ],
      "text/plain": [
       "             ISBN                                         Book-Title\n",
       "0      0195153448                                Classical Mythology\n",
       "1      0002005018                                       Clara Callan\n",
       "2      0060973129                               Decision in Normandy\n",
       "3      0374157065  Flu: The Story of the Great Influenza Pandemic...\n",
       "4      0393045218                             The Mummies of Urumchi\n",
       "...           ...                                                ...\n",
       "99995  3442727782                      Das Tagebuch des Oscar Wilde.\n",
       "99996  0373707495  Memories Of You (Bestselling Author Flash) (Ha...\n",
       "99997  3442725739                              Ã?Â?stlich der Berge.\n",
       "99998  3453211901                          Das teuflische Testament.\n",
       "99999  0263790576                        A Stranger's Love (Romance)\n",
       "\n",
       "[100000 rows x 2 columns]"
      ]
     },
     "execution_count": 3,
     "metadata": {},
     "output_type": "execute_result"
    }
   ],
   "source": [
    "books=books[['ISBN','Book-Title']]\n",
    "#print(books)\n",
    "books = books.head(100000)\n",
    "#print(books.head(10))\n",
    "\n",
    "\n",
    "books.isnull().sum()\n",
    "books.drop_duplicates()"
   ]
  },
  {
   "cell_type": "code",
   "execution_count": 4,
   "id": "c64d0ada",
   "metadata": {},
   "outputs": [],
   "source": [
    "from sklearn.feature_extraction.text import TfidfVectorizer\n",
    "\n",
    "\n",
    "books['Book-Title'] = books['Book-Title'].fillna('')\n",
    "tfidf = TfidfVectorizer(stop_words='english')"
   ]
  },
  {
   "cell_type": "code",
   "execution_count": 6,
   "id": "457054de",
   "metadata": {},
   "outputs": [
    {
     "name": "stdout",
     "output_type": "stream",
     "text": [
      "  (0, 27245)\t0.7023330351390006\n",
      "  (0, 9306)\t0.7118485146099831\n",
      "  (1, 7747)\t0.7484185646842515\n",
      "  (1, 9283)\t0.6632266973184696\n",
      "  (2, 28076)\t0.7071067811865476\n",
      "  (2, 11671)\t0.7071067811865476\n",
      "  (3, 8347)\t0.4068677213910315\n",
      "  (3, 41928)\t0.35745275221795025\n",
      "  (3, 35050)\t0.2520311895296719\n",
      "  (3, 871)\t0.345037232799594\n",
      "  (3, 29263)\t0.3886591553323592\n",
      "  (3, 20775)\t0.3766654794821571\n",
      "  (3, 18096)\t0.2116571765125366\n",
      "  (3, 37770)\t0.18795811463736217\n",
      "  (3, 16147)\t0.3886591553323592\n",
      "  (4, 41225)\t0.7406908781269843\n",
      "  (4, 27094)\t0.6718459816501673\n",
      "  (5, 42874)\t0.5761758719958254\n",
      "  (5, 17751)\t0.5088038510459882\n",
      "  (5, 22452)\t0.6396405284928577\n",
      "  (6, 20454)\t0.47654311673032956\n",
      "  (6, 19569)\t0.4978672969520545\n",
      "  (6, 26109)\t0.4430897447876674\n",
      "  (6, 16304)\t0.5174362650611891\n",
      "  (6, 43307)\t0.24691294454954157\n",
      "  :\t:\n",
      "  (99994, 4741)\t0.4012002857062789\n",
      "  (99994, 13769)\t0.34650539934791597\n",
      "  (99995, 42892)\t0.4925746840648862\n",
      "  (99995, 28868)\t0.48011921512525013\n",
      "  (99995, 12013)\t0.35409173353200124\n",
      "  (99995, 38595)\t0.5251694280821895\n",
      "  (99995, 11481)\t0.35450223685897936\n",
      "  (99996, 2140)\t0.4681363575580354\n",
      "  (99996, 16022)\t0.37687675017374134\n",
      "  (99996, 38213)\t0.3035439901616552\n",
      "  (99996, 25705)\t0.3290813001986326\n",
      "  (99996, 4779)\t0.3465283993155452\n",
      "  (99996, 5937)\t0.39836895475068645\n",
      "  (99996, 18827)\t0.19975600537492963\n",
      "  (99996, 42041)\t0.2680457636807377\n",
      "  (99996, 33704)\t0.21874199655120138\n",
      "  (99997, 37686)\t0.6970073713463506\n",
      "  (99997, 5846)\t0.6322227199607947\n",
      "  (99997, 11995)\t0.3383417749173536\n",
      "  (99998, 39175)\t0.7439057428834668\n",
      "  (99998, 11481)\t0.41123554662665274\n",
      "  (99998, 39149)\t0.5267727886818713\n",
      "  (99999, 37811)\t0.7204837813659986\n",
      "  (99999, 24187)\t0.48126054901860527\n",
      "  (99999, 33704)\t0.49929090192678527\n"
     ]
    }
   ],
   "source": [
    "tfidf_matrix = tfidf.fit_transform(books['Book-Title'])\n",
    "print(tfidf_matrix)"
   ]
  },
  {
   "cell_type": "code",
   "execution_count": 7,
   "id": "d064154d",
   "metadata": {},
   "outputs": [],
   "source": [
    "from sklearn.metrics.pairwise import linear_kernel\n",
    "from sklearn.metrics.pairwise import cosine_similarity\n",
    "from scipy.sparse import csr_matrix\n",
    "tfidf_matrix = tfidf.fit_transform(books['Book-Title'])\n",
    "tfidf_matrix_sparse = csr_matrix(tfidf_matrix)"
   ]
  },
  {
   "cell_type": "code",
   "execution_count": 26,
   "id": "bd8d59e9",
   "metadata": {},
   "outputs": [
    {
     "ename": "MemoryError",
     "evalue": "Unable to allocate 3.01 MiB for an array with shape (394606,) and data type float64",
     "output_type": "error",
     "traceback": [
      "\u001b[1;31m---------------------------------------------------------------------------\u001b[0m",
      "\u001b[1;31mMemoryError\u001b[0m                               Traceback (most recent call last)",
      "Cell \u001b[1;32mIn[26], line 1\u001b[0m\n\u001b[1;32m----> 1\u001b[0m cos\u001b[38;5;241m=\u001b[39mcosine_similarity(tfidf_matrix[\u001b[38;5;241m1\u001b[39m:\u001b[38;5;241m10000\u001b[39m], \u001b[43mtfidf_matrix\u001b[49m\u001b[43m[\u001b[49m\u001b[43m:\u001b[49m\u001b[43m]\u001b[49m)\n\u001b[0;32m      2\u001b[0m cos\u001b[38;5;241m.\u001b[39mshape\n",
      "File \u001b[1;32m~\\AppData\\Local\\Programs\\Python\\Python311\\Lib\\site-packages\\scipy\\sparse\\_index.py:68\u001b[0m, in \u001b[0;36mIndexMixin.__getitem__\u001b[1;34m(self, key)\u001b[0m\n\u001b[0;32m     66\u001b[0m \u001b[38;5;28;01melif\u001b[39;00m \u001b[38;5;28misinstance\u001b[39m(col, \u001b[38;5;28mslice\u001b[39m):\n\u001b[0;32m     67\u001b[0m     \u001b[38;5;28;01mif\u001b[39;00m row \u001b[38;5;241m==\u001b[39m \u001b[38;5;28mslice\u001b[39m(\u001b[38;5;28;01mNone\u001b[39;00m) \u001b[38;5;129;01mand\u001b[39;00m row \u001b[38;5;241m==\u001b[39m col:\n\u001b[1;32m---> 68\u001b[0m         \u001b[38;5;28;01mreturn\u001b[39;00m \u001b[38;5;28;43mself\u001b[39;49m\u001b[38;5;241;43m.\u001b[39;49m\u001b[43mcopy\u001b[49m\u001b[43m(\u001b[49m\u001b[43m)\u001b[49m\n\u001b[0;32m     69\u001b[0m     \u001b[38;5;28;01mreturn\u001b[39;00m \u001b[38;5;28mself\u001b[39m\u001b[38;5;241m.\u001b[39m_get_sliceXslice(row, col)\n\u001b[0;32m     70\u001b[0m \u001b[38;5;28;01melif\u001b[39;00m col\u001b[38;5;241m.\u001b[39mndim \u001b[38;5;241m==\u001b[39m \u001b[38;5;241m1\u001b[39m:\n",
      "File \u001b[1;32m~\\AppData\\Local\\Programs\\Python\\Python311\\Lib\\site-packages\\scipy\\sparse\\_data.py:92\u001b[0m, in \u001b[0;36m_data_matrix.copy\u001b[1;34m(self)\u001b[0m\n\u001b[0;32m     91\u001b[0m \u001b[38;5;28;01mdef\u001b[39;00m \u001b[38;5;21mcopy\u001b[39m(\u001b[38;5;28mself\u001b[39m):\n\u001b[1;32m---> 92\u001b[0m     \u001b[38;5;28;01mreturn\u001b[39;00m \u001b[38;5;28mself\u001b[39m\u001b[38;5;241m.\u001b[39m_with_data(\u001b[38;5;28mself\u001b[39m\u001b[38;5;241m.\u001b[39mdata\u001b[38;5;241m.\u001b[39mcopy(), copy\u001b[38;5;241m=\u001b[39m\u001b[38;5;28;01mTrue\u001b[39;00m)\n",
      "\u001b[1;31mMemoryError\u001b[0m: Unable to allocate 3.01 MiB for an array with shape (394606,) and data type float64"
     ]
    }
   ],
   "source": [
    "cos=cosine_similarity(tfidf_matrix[1:10000], tfidf_matrix[:])\n",
    "cos.shape"
   ]
  },
  {
   "cell_type": "code",
   "execution_count": 9,
   "id": "27d91fd7",
   "metadata": {},
   "outputs": [
    {
     "data": {
      "text/plain": [
       "Book-Title\n",
       "Classical Mythology                                                                                       0\n",
       "Clara Callan                                                                                              1\n",
       "Decision in Normandy                                                                                      2\n",
       "Flu: The Story of the Great Influenza Pandemic of 1918 and the Search for the Virus That Caused It        3\n",
       "The Mummies of Urumchi                                                                                    4\n",
       "                                                                                                      ...  \n",
       "Das Tagebuch des Oscar Wilde.                                                                         99995\n",
       "Memories Of You (Bestselling Author Flash) (Harlequin Super Romance , Vol 749)                        99996\n",
       "Ã?Â?stlich der Berge.                                                                                 99997\n",
       "Das teuflische Testament.                                                                             99998\n",
       "A Stranger's Love (Romance)                                                                           99999\n",
       "Length: 100000, dtype: int64"
      ]
     },
     "execution_count": 9,
     "metadata": {},
     "output_type": "execute_result"
    }
   ],
   "source": [
    "indices = pd.Series(books.index, index=books['Book-Title']).drop_duplicates()\n",
    "indices"
   ]
  },
  {
   "cell_type": "code",
   "execution_count": null,
   "id": "8598a4a1",
   "metadata": {},
   "outputs": [],
   "source": [
    "def  myFunc(e):\n",
    "    return e[1]"
   ]
  },
  {
   "cell_type": "code",
   "execution_count": 10,
   "id": "cb0566fb",
   "metadata": {},
   "outputs": [
    {
     "ename": "NameError",
     "evalue": "name 'cos' is not defined",
     "output_type": "error",
     "traceback": [
      "\u001b[1;31m---------------------------------------------------------------------------\u001b[0m",
      "\u001b[1;31mNameError\u001b[0m                                 Traceback (most recent call last)",
      "Cell \u001b[1;32mIn[10], line 1\u001b[0m\n\u001b[1;32m----> 1\u001b[0m \u001b[38;5;28;01mdef\u001b[39;00m \u001b[38;5;21mget_recomendations\u001b[39m(title,n,cos\u001b[38;5;241m=\u001b[39m\u001b[43mcos\u001b[49m):\n\u001b[0;32m      2\u001b[0m     idx \u001b[38;5;241m=\u001b[39m indices[title]\n\u001b[0;32m      3\u001b[0m     scores \u001b[38;5;241m=\u001b[39m \u001b[38;5;28mlist\u001b[39m(\u001b[38;5;28menumerate\u001b[39m(cos[idx]))\n",
      "\u001b[1;31mNameError\u001b[0m: name 'cos' is not defined"
     ]
    }
   ],
   "source": [
    "def get_recomendations(title,n,cos=cos):\n",
    "    idx = indices[title]\n",
    "    scores = list(enumerate(cos[idx]))\n",
    "    scores = sorted(scores,key=myFunc,reverse=True)\n",
    "    scores = scores[1:n+1]\n",
    "    book_idx = [x[0] for x in scores]\n",
    "    rec = books['Book-Title'].iloc[book_idx]\n",
    "    return rec"
   ]
  },
  {
   "cell_type": "code",
   "execution_count": null,
   "id": "37085efc",
   "metadata": {},
   "outputs": [],
   "source": [
    "a=get_recomendations('The Hobbit : The Enchanting Prelude to The Lord of the Rings',5)\n",
    "print(a.tolist())"
   ]
  },
  {
   "cell_type": "code",
   "execution_count": 5,
   "id": "b4d7ad42",
   "metadata": {
    "scrolled": true
   },
   "outputs": [
    {
     "name": "stdout",
     "output_type": "stream",
     "text": [
      "Running on local URL:  http://127.0.0.1:7860\n",
      "\n",
      "To create a public link, set `share=True` in `launch()`.\n"
     ]
    },
    {
     "data": {
      "text/html": [
       "<div><iframe src=\"http://127.0.0.1:7860/\" width=\"100%\" height=\"500\" allow=\"autoplay; camera; microphone; clipboard-read; clipboard-write;\" frameborder=\"0\" allowfullscreen></iframe></div>"
      ],
      "text/plain": [
       "<IPython.core.display.HTML object>"
      ]
     },
     "metadata": {},
     "output_type": "display_data"
    },
    {
     "data": {
      "text/plain": []
     },
     "execution_count": 5,
     "metadata": {},
     "output_type": "execute_result"
    }
   ],
   "source": [
    "import gradio as gr\n",
    "\n",
    "def greet(name):\n",
    "    return get_recomendations(name,1).tolist()\n",
    "\n",
    "demo = gr.Interface(fn=greet, inputs=\"text\", outputs=\"text\")\n",
    "    \n",
    "demo.launch()"
   ]
  },
  {
   "cell_type": "markdown",
   "id": "deae84fc",
   "metadata": {},
   "source": [
    "Tutaj zaczyna się coś ciekawego"
   ]
  },
  {
   "cell_type": "code",
   "execution_count": null,
   "id": "61e26112",
   "metadata": {},
   "outputs": [],
   "source": [
    "from sklearn.feature_extraction.text import CountVectorizer\n",
    "from sklearn.metrics.pairwise import euclidean_distances\n",
    "from sklearn.neighbors import NearestNeighbors\n",
    "from sklearn.feature_extraction.text import TfidfVectorizer\n",
    "\n",
    "\n",
    "wektory_cech = CountVectorizer().fit_transform(books['Book-Title'])\n",
    "#odleglosci_euklidesowe = euclidean_distances(wektory_cech[0], wektory_cech)\n",
    "dane = []\n",
    "for i in range(len(books)):\n",
    "    odleglosci_euklidesowe_i = euclidean_distances(\"Lord of roi\", wektory_cech)\n",
    "    dane.append((i, odleglosci_euklidesowe_i))\n",
    "\n",
    "print(\"Type:\", type(dane))  # Checking the type of ajaa\n",
    "print(\"Size:\", len(dane))"
   ]
  },
  {
   "cell_type": "code",
   "execution_count": null,
   "id": "e27cafe9",
   "metadata": {},
   "outputs": [],
   "source": [
    "from Levenshtein import distance\n",
    "def closest_title(title):\n",
    "    # Utwórz DataFrame z indeksem\n",
    "    m = pd.DataFrame(books.index)\n",
    "    m['lev'] = m.index.map(lambda x: distance(books['Book-Title'].iloc[x], title))\n",
    "\n",
    "    # Znajdź najbliższy tytuł na podstawie odległości Levenshteina\n",
    "    closest_title = books.loc[m.sort_values('lev', ascending=True).index[0], 'Book-Title']\n",
    "\n",
    "    return closest_title\n",
    "\n",
    "def n_najmniejszych(lista, n):\n",
    "    # Utwórz listę indeksów dla elementów różnych od zera\n",
    "    indeksy_niezerowych_elementow = [indeks for indeks, wartosc in enumerate(lista[0]) if abs(wartosc) > 1e-10]\n",
    "    \n",
    "    # Posortuj listę indeksów według wartości\n",
    "    posortowane_indeksy = sorted(indeksy_niezerowych_elementow, key=lambda x: lista[0][x])\n",
    "    \n",
    "    # Ogranicz się do pierwszych n najmniejszych indeksów\n",
    "    n_najmniejsze_indeksy = posortowane_indeksy[:n]\n",
    "    \n",
    "    return n_najmniejsze_indeksy\n",
    "\n",
    "\n",
    "def get_recomendation(title,n):\n",
    "    check_book = any(books['Book-Title'].str.contains(title, case=False))\n",
    "    if check_book == True:\n",
    "        print(\"1\")\n",
    "        row_number = books.index[books['Book-Title'].str.contains(title, case=False)].tolist()\n",
    "        row_number =row_number[0]\n",
    "        array = dane[row_number][1].tolist()\n",
    "        title_list=n_najmniejszych(array,n)\n",
    "        tytul_ksiazki =[]\n",
    "        for indeks in title_list:\n",
    "            tytul_ksiazki.append(books[\"Book-Title\"].iloc[indeks])\n",
    "\n",
    "    else:\n",
    "        print(\"2\")\n",
    "        title = closest_title(title)\n",
    "        row_number = books.index[books['Book-Title'].str.contains(title, case=False)].tolist()\n",
    "        row_number =row_number[0]\n",
    "        array = dane[row_number][1].tolist()\n",
    "        title_list=n_najmniejszych(array,n)\n",
    "        tytul_ksiazki =[]\n",
    "        for indeks in title_list:\n",
    "            tytul_ksiazki.append(books[\"Book-Title\"].iloc[indeks])\n",
    "            \n",
    "    return(tytul_ksiazki)\n",
    "\n",
    "get_recomendation(\"Dark Tales\",4)\n",
    "#get_recomendation(\"The Hobbit : The Enchanting Prelude to The Lord of the Rings\",4)\n",
    "\n"
   ]
  },
  {
   "cell_type": "markdown",
   "id": "14aa9bdf",
   "metadata": {},
   "source": [
    "# Rekomendaja po Popularności danej książki"
   ]
  },
  {
   "cell_type": "code",
   "execution_count": 4,
   "id": "4ca9ce50",
   "metadata": {},
   "outputs": [
    {
     "data": {
      "text/html": [
       "<div>\n",
       "<style scoped>\n",
       "    .dataframe tbody tr th:only-of-type {\n",
       "        vertical-align: middle;\n",
       "    }\n",
       "\n",
       "    .dataframe tbody tr th {\n",
       "        vertical-align: top;\n",
       "    }\n",
       "\n",
       "    .dataframe thead th {\n",
       "        text-align: right;\n",
       "    }\n",
       "</style>\n",
       "<table border=\"1\" class=\"dataframe\">\n",
       "  <thead>\n",
       "    <tr style=\"text-align: right;\">\n",
       "      <th></th>\n",
       "      <th>User-ID</th>\n",
       "      <th>ISBN</th>\n",
       "      <th>Book-Rating</th>\n",
       "    </tr>\n",
       "  </thead>\n",
       "  <tbody>\n",
       "    <tr>\n",
       "      <th>0</th>\n",
       "      <td>276725</td>\n",
       "      <td>034545104X</td>\n",
       "      <td>0</td>\n",
       "    </tr>\n",
       "    <tr>\n",
       "      <th>1</th>\n",
       "      <td>276726</td>\n",
       "      <td>0155061224</td>\n",
       "      <td>5</td>\n",
       "    </tr>\n",
       "    <tr>\n",
       "      <th>2</th>\n",
       "      <td>276727</td>\n",
       "      <td>0446520802</td>\n",
       "      <td>0</td>\n",
       "    </tr>\n",
       "    <tr>\n",
       "      <th>3</th>\n",
       "      <td>276729</td>\n",
       "      <td>052165615X</td>\n",
       "      <td>3</td>\n",
       "    </tr>\n",
       "    <tr>\n",
       "      <th>4</th>\n",
       "      <td>276729</td>\n",
       "      <td>0521795028</td>\n",
       "      <td>6</td>\n",
       "    </tr>\n",
       "  </tbody>\n",
       "</table>\n",
       "</div>"
      ],
      "text/plain": [
       "   User-ID        ISBN  Book-Rating\n",
       "0   276725  034545104X            0\n",
       "1   276726  0155061224            5\n",
       "2   276727  0446520802            0\n",
       "3   276729  052165615X            3\n",
       "4   276729  0521795028            6"
      ]
     },
     "execution_count": 4,
     "metadata": {},
     "output_type": "execute_result"
    }
   ],
   "source": [
    "#wczytanie danych z ocenami\n",
    "ratings = pd.read_csv(\"D:/Downloads/archive(4)/Ratings.csv\",low_memory=False)\n",
    "ratings.head()\n"
   ]
  },
  {
   "cell_type": "code",
   "execution_count": 6,
   "id": "a425d5d4",
   "metadata": {},
   "outputs": [
    {
     "data": {
      "text/html": [
       "<div>\n",
       "<style scoped>\n",
       "    .dataframe tbody tr th:only-of-type {\n",
       "        vertical-align: middle;\n",
       "    }\n",
       "\n",
       "    .dataframe tbody tr th {\n",
       "        vertical-align: top;\n",
       "    }\n",
       "\n",
       "    .dataframe thead th {\n",
       "        text-align: right;\n",
       "    }\n",
       "</style>\n",
       "<table border=\"1\" class=\"dataframe\">\n",
       "  <thead>\n",
       "    <tr style=\"text-align: right;\">\n",
       "      <th></th>\n",
       "      <th>ISBN</th>\n",
       "      <th>Book-Title</th>\n",
       "      <th>Book-Author</th>\n",
       "      <th>Year-Of-Publication</th>\n",
       "      <th>Publisher</th>\n",
       "      <th>Image-URL-S</th>\n",
       "      <th>Image-URL-M</th>\n",
       "      <th>Image-URL-L</th>\n",
       "      <th>User-ID</th>\n",
       "      <th>Book-Rating</th>\n",
       "    </tr>\n",
       "  </thead>\n",
       "  <tbody>\n",
       "    <tr>\n",
       "      <th>0</th>\n",
       "      <td>0195153448</td>\n",
       "      <td>Classical Mythology</td>\n",
       "      <td>Mark P. O. Morford</td>\n",
       "      <td>2002</td>\n",
       "      <td>Oxford University Press</td>\n",
       "      <td>http://images.amazon.com/images/P/0195153448.0...</td>\n",
       "      <td>http://images.amazon.com/images/P/0195153448.0...</td>\n",
       "      <td>http://images.amazon.com/images/P/0195153448.0...</td>\n",
       "      <td>2</td>\n",
       "      <td>0</td>\n",
       "    </tr>\n",
       "    <tr>\n",
       "      <th>1</th>\n",
       "      <td>0002005018</td>\n",
       "      <td>Clara Callan</td>\n",
       "      <td>Richard Bruce Wright</td>\n",
       "      <td>2001</td>\n",
       "      <td>HarperFlamingo Canada</td>\n",
       "      <td>http://images.amazon.com/images/P/0002005018.0...</td>\n",
       "      <td>http://images.amazon.com/images/P/0002005018.0...</td>\n",
       "      <td>http://images.amazon.com/images/P/0002005018.0...</td>\n",
       "      <td>8</td>\n",
       "      <td>5</td>\n",
       "    </tr>\n",
       "    <tr>\n",
       "      <th>2</th>\n",
       "      <td>0002005018</td>\n",
       "      <td>Clara Callan</td>\n",
       "      <td>Richard Bruce Wright</td>\n",
       "      <td>2001</td>\n",
       "      <td>HarperFlamingo Canada</td>\n",
       "      <td>http://images.amazon.com/images/P/0002005018.0...</td>\n",
       "      <td>http://images.amazon.com/images/P/0002005018.0...</td>\n",
       "      <td>http://images.amazon.com/images/P/0002005018.0...</td>\n",
       "      <td>11400</td>\n",
       "      <td>0</td>\n",
       "    </tr>\n",
       "    <tr>\n",
       "      <th>3</th>\n",
       "      <td>0002005018</td>\n",
       "      <td>Clara Callan</td>\n",
       "      <td>Richard Bruce Wright</td>\n",
       "      <td>2001</td>\n",
       "      <td>HarperFlamingo Canada</td>\n",
       "      <td>http://images.amazon.com/images/P/0002005018.0...</td>\n",
       "      <td>http://images.amazon.com/images/P/0002005018.0...</td>\n",
       "      <td>http://images.amazon.com/images/P/0002005018.0...</td>\n",
       "      <td>11676</td>\n",
       "      <td>8</td>\n",
       "    </tr>\n",
       "    <tr>\n",
       "      <th>4</th>\n",
       "      <td>0002005018</td>\n",
       "      <td>Clara Callan</td>\n",
       "      <td>Richard Bruce Wright</td>\n",
       "      <td>2001</td>\n",
       "      <td>HarperFlamingo Canada</td>\n",
       "      <td>http://images.amazon.com/images/P/0002005018.0...</td>\n",
       "      <td>http://images.amazon.com/images/P/0002005018.0...</td>\n",
       "      <td>http://images.amazon.com/images/P/0002005018.0...</td>\n",
       "      <td>41385</td>\n",
       "      <td>0</td>\n",
       "    </tr>\n",
       "  </tbody>\n",
       "</table>\n",
       "</div>"
      ],
      "text/plain": [
       "         ISBN           Book-Title           Book-Author Year-Of-Publication  \\\n",
       "0  0195153448  Classical Mythology    Mark P. O. Morford                2002   \n",
       "1  0002005018         Clara Callan  Richard Bruce Wright                2001   \n",
       "2  0002005018         Clara Callan  Richard Bruce Wright                2001   \n",
       "3  0002005018         Clara Callan  Richard Bruce Wright                2001   \n",
       "4  0002005018         Clara Callan  Richard Bruce Wright                2001   \n",
       "\n",
       "                 Publisher                                        Image-URL-S  \\\n",
       "0  Oxford University Press  http://images.amazon.com/images/P/0195153448.0...   \n",
       "1    HarperFlamingo Canada  http://images.amazon.com/images/P/0002005018.0...   \n",
       "2    HarperFlamingo Canada  http://images.amazon.com/images/P/0002005018.0...   \n",
       "3    HarperFlamingo Canada  http://images.amazon.com/images/P/0002005018.0...   \n",
       "4    HarperFlamingo Canada  http://images.amazon.com/images/P/0002005018.0...   \n",
       "\n",
       "                                         Image-URL-M  \\\n",
       "0  http://images.amazon.com/images/P/0195153448.0...   \n",
       "1  http://images.amazon.com/images/P/0002005018.0...   \n",
       "2  http://images.amazon.com/images/P/0002005018.0...   \n",
       "3  http://images.amazon.com/images/P/0002005018.0...   \n",
       "4  http://images.amazon.com/images/P/0002005018.0...   \n",
       "\n",
       "                                         Image-URL-L  User-ID  Book-Rating  \n",
       "0  http://images.amazon.com/images/P/0195153448.0...        2            0  \n",
       "1  http://images.amazon.com/images/P/0002005018.0...        8            5  \n",
       "2  http://images.amazon.com/images/P/0002005018.0...    11400            0  \n",
       "3  http://images.amazon.com/images/P/0002005018.0...    11676            8  \n",
       "4  http://images.amazon.com/images/P/0002005018.0...    41385            0  "
      ]
     },
     "execution_count": 6,
     "metadata": {},
     "output_type": "execute_result"
    }
   ],
   "source": [
    "#połącz danych \n",
    "book_rating = pd.merge(books,ratings, on ='ISBN')\n",
    "book_rating.head()"
   ]
  },
  {
   "cell_type": "code",
   "execution_count": 12,
   "id": "05be9504",
   "metadata": {},
   "outputs": [
    {
     "data": {
      "text/html": [
       "<div>\n",
       "<style scoped>\n",
       "    .dataframe tbody tr th:only-of-type {\n",
       "        vertical-align: middle;\n",
       "    }\n",
       "\n",
       "    .dataframe tbody tr th {\n",
       "        vertical-align: top;\n",
       "    }\n",
       "\n",
       "    .dataframe thead th {\n",
       "        text-align: right;\n",
       "    }\n",
       "</style>\n",
       "<table border=\"1\" class=\"dataframe\">\n",
       "  <thead>\n",
       "    <tr style=\"text-align: right;\">\n",
       "      <th></th>\n",
       "      <th>Book-Title</th>\n",
       "      <th>num_rating</th>\n",
       "    </tr>\n",
       "  </thead>\n",
       "  <tbody>\n",
       "    <tr>\n",
       "      <th>0</th>\n",
       "      <td>A Light in the Storm: The Civil War Diary of ...</td>\n",
       "      <td>4</td>\n",
       "    </tr>\n",
       "    <tr>\n",
       "      <th>1</th>\n",
       "      <td>Always Have Popsicles</td>\n",
       "      <td>1</td>\n",
       "    </tr>\n",
       "    <tr>\n",
       "      <th>2</th>\n",
       "      <td>Apple Magic (The Collector's series)</td>\n",
       "      <td>1</td>\n",
       "    </tr>\n",
       "    <tr>\n",
       "      <th>3</th>\n",
       "      <td>Ask Lily (Young Women of Faith: Lily Series, ...</td>\n",
       "      <td>1</td>\n",
       "    </tr>\n",
       "    <tr>\n",
       "      <th>4</th>\n",
       "      <td>Beyond IBM: Leadership Marketing and Finance ...</td>\n",
       "      <td>1</td>\n",
       "    </tr>\n",
       "  </tbody>\n",
       "</table>\n",
       "</div>"
      ],
      "text/plain": [
       "                                          Book-Title  num_rating\n",
       "0   A Light in the Storm: The Civil War Diary of ...           4\n",
       "1                              Always Have Popsicles           1\n",
       "2               Apple Magic (The Collector's series)           1\n",
       "3   Ask Lily (Young Women of Faith: Lily Series, ...           1\n",
       "4   Beyond IBM: Leadership Marketing and Finance ...           1"
      ]
     },
     "execution_count": 12,
     "metadata": {},
     "output_type": "execute_result"
    }
   ],
   "source": [
    "# Liczba ocen dla każdej książki\n",
    "num_book_rating = book_rating.groupby('Book-Title').count()['Book-Rating'].reset_index()\n",
    "num_book_rating.rename(columns = {'Book-Rating':'num_rating'}, inplace=True)\n",
    "num_book_rating.head()"
   ]
  },
  {
   "cell_type": "code",
   "execution_count": 9,
   "id": "3377e270",
   "metadata": {},
   "outputs": [
    {
     "name": "stderr",
     "output_type": "stream",
     "text": [
      "C:\\Users\\13luk\\AppData\\Local\\Temp\\ipykernel_21520\\2411533193.py:2: FutureWarning: The default value of numeric_only in DataFrameGroupBy.mean is deprecated. In a future version, numeric_only will default to False. Either specify numeric_only or select only columns which should be valid for the function.\n",
      "  avg_book_rating = book_rating.groupby('Book-Title').mean()['Book-Rating'].reset_index()\n"
     ]
    },
    {
     "data": {
      "text/html": [
       "<div>\n",
       "<style scoped>\n",
       "    .dataframe tbody tr th:only-of-type {\n",
       "        vertical-align: middle;\n",
       "    }\n",
       "\n",
       "    .dataframe tbody tr th {\n",
       "        vertical-align: top;\n",
       "    }\n",
       "\n",
       "    .dataframe thead th {\n",
       "        text-align: right;\n",
       "    }\n",
       "</style>\n",
       "<table border=\"1\" class=\"dataframe\">\n",
       "  <thead>\n",
       "    <tr style=\"text-align: right;\">\n",
       "      <th></th>\n",
       "      <th>Book-Title</th>\n",
       "      <th>avg_rating</th>\n",
       "    </tr>\n",
       "  </thead>\n",
       "  <tbody>\n",
       "    <tr>\n",
       "      <th>0</th>\n",
       "      <td>A Light in the Storm: The Civil War Diary of ...</td>\n",
       "      <td>2.25</td>\n",
       "    </tr>\n",
       "    <tr>\n",
       "      <th>1</th>\n",
       "      <td>Always Have Popsicles</td>\n",
       "      <td>0.00</td>\n",
       "    </tr>\n",
       "    <tr>\n",
       "      <th>2</th>\n",
       "      <td>Apple Magic (The Collector's series)</td>\n",
       "      <td>0.00</td>\n",
       "    </tr>\n",
       "    <tr>\n",
       "      <th>3</th>\n",
       "      <td>Ask Lily (Young Women of Faith: Lily Series, ...</td>\n",
       "      <td>8.00</td>\n",
       "    </tr>\n",
       "    <tr>\n",
       "      <th>4</th>\n",
       "      <td>Beyond IBM: Leadership Marketing and Finance ...</td>\n",
       "      <td>0.00</td>\n",
       "    </tr>\n",
       "  </tbody>\n",
       "</table>\n",
       "</div>"
      ],
      "text/plain": [
       "                                          Book-Title  avg_rating\n",
       "0   A Light in the Storm: The Civil War Diary of ...        2.25\n",
       "1                              Always Have Popsicles        0.00\n",
       "2               Apple Magic (The Collector's series)        0.00\n",
       "3   Ask Lily (Young Women of Faith: Lily Series, ...        8.00\n",
       "4   Beyond IBM: Leadership Marketing and Finance ...        0.00"
      ]
     },
     "execution_count": 9,
     "metadata": {},
     "output_type": "execute_result"
    }
   ],
   "source": [
    "# Średnia ocena dla każdej książki\n",
    "avg_book_rating = book_rating.groupby('Book-Title').mean()['Book-Rating'].reset_index()\n",
    "avg_book_rating.rename(columns={'Book-Rating':'avg_rating'}, inplace=True)\n",
    "avg_book_rating.head()"
   ]
  },
  {
   "cell_type": "code",
   "execution_count": 13,
   "id": "18fc6041",
   "metadata": {},
   "outputs": [
    {
     "data": {
      "text/html": [
       "<div>\n",
       "<style scoped>\n",
       "    .dataframe tbody tr th:only-of-type {\n",
       "        vertical-align: middle;\n",
       "    }\n",
       "\n",
       "    .dataframe tbody tr th {\n",
       "        vertical-align: top;\n",
       "    }\n",
       "\n",
       "    .dataframe thead th {\n",
       "        text-align: right;\n",
       "    }\n",
       "</style>\n",
       "<table border=\"1\" class=\"dataframe\">\n",
       "  <thead>\n",
       "    <tr style=\"text-align: right;\">\n",
       "      <th></th>\n",
       "      <th>Book-Title</th>\n",
       "      <th>avg_rating</th>\n",
       "      <th>num_rating</th>\n",
       "    </tr>\n",
       "  </thead>\n",
       "  <tbody>\n",
       "    <tr>\n",
       "      <th>0</th>\n",
       "      <td>A Light in the Storm: The Civil War Diary of ...</td>\n",
       "      <td>2.25</td>\n",
       "      <td>4</td>\n",
       "    </tr>\n",
       "    <tr>\n",
       "      <th>1</th>\n",
       "      <td>Always Have Popsicles</td>\n",
       "      <td>0.00</td>\n",
       "      <td>1</td>\n",
       "    </tr>\n",
       "    <tr>\n",
       "      <th>2</th>\n",
       "      <td>Apple Magic (The Collector's series)</td>\n",
       "      <td>0.00</td>\n",
       "      <td>1</td>\n",
       "    </tr>\n",
       "    <tr>\n",
       "      <th>3</th>\n",
       "      <td>Ask Lily (Young Women of Faith: Lily Series, ...</td>\n",
       "      <td>8.00</td>\n",
       "      <td>1</td>\n",
       "    </tr>\n",
       "    <tr>\n",
       "      <th>4</th>\n",
       "      <td>Beyond IBM: Leadership Marketing and Finance ...</td>\n",
       "      <td>0.00</td>\n",
       "      <td>1</td>\n",
       "    </tr>\n",
       "  </tbody>\n",
       "</table>\n",
       "</div>"
      ],
      "text/plain": [
       "                                          Book-Title  avg_rating  num_rating\n",
       "0   A Light in the Storm: The Civil War Diary of ...        2.25           4\n",
       "1                              Always Have Popsicles        0.00           1\n",
       "2               Apple Magic (The Collector's series)        0.00           1\n",
       "3   Ask Lily (Young Women of Faith: Lily Series, ...        8.00           1\n",
       "4   Beyond IBM: Leadership Marketing and Finance ...        0.00           1"
      ]
     },
     "execution_count": 13,
     "metadata": {},
     "output_type": "execute_result"
    }
   ],
   "source": [
    "#połączenie danych sredniej oceny i liczby ocen\n",
    "books_df = avg_book_rating.merge(num_book_rating, on = 'Book-Title')\n",
    "books_df.head()"
   ]
  },
  {
   "cell_type": "code",
   "execution_count": null,
   "id": "f7d2d2cf",
   "metadata": {},
   "outputs": [],
   "source": []
  }
 ],
 "metadata": {
  "kernelspec": {
   "display_name": "Python 3 (ipykernel)",
   "language": "python",
   "name": "python3"
  },
  "language_info": {
   "codemirror_mode": {
    "name": "ipython",
    "version": 3
   },
   "file_extension": ".py",
   "mimetype": "text/x-python",
   "name": "python",
   "nbconvert_exporter": "python",
   "pygments_lexer": "ipython3",
   "version": "3.11.2"
  }
 },
 "nbformat": 4,
 "nbformat_minor": 5
}
